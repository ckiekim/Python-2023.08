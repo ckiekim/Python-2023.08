{
 "cells": [
  {
   "cell_type": "markdown",
   "metadata": {},
   "source": [
    "#### 심사문제 13.7\n",
    "표준 입력으로 가격(정수)과 쿠폰 이름이 각 줄에 입력됩니다.<br>\n",
    "Cash3000 쿠폰은 3,000원, Cash5000 쿠폰은 5,000원을 할인합니다.<br>\n",
    "쿠폰에 따라 할인된 가격을 출력하는 프로그램을 만드세요."
   ]
  },
  {
   "cell_type": "code",
   "execution_count": 1,
   "metadata": {},
   "outputs": [
    {
     "name": "stdout",
     "output_type": "stream",
     "text": [
      "7000\n"
     ]
    }
   ],
   "source": [
    "price = int(input())\n",
    "coupon = input()\n",
    "if coupon == 'Cash3000':\n",
    "    price -= 3000\n",
    "if coupon == 'Cash5000':\n",
    "    price -= 5000\n",
    "print(price)"
   ]
  },
  {
   "cell_type": "markdown",
   "metadata": {},
   "source": [
    "#### 심사문제 14.7\n",
    "표준 입력으로 국어, 영어, 수학, 과학 점수가 입력됩니다.<br>\n",
    "여기서 네 과목의 평균 점수가 80점 이상일 때 합격이라고 정했습니다.<br>\n",
    "평균 점수에 따라 '합격', '불합격'을 출력하는 프로그램을 만드세요.<br>\n",
    "단, 점수는 0점부터 100점까지만 입력받을 수 있으며 범위를 벗어났다면 '잘못된 점수'를 출력하고 합격, 불합격 여부는 출력하지 않아야 합니다."
   ]
  },
  {
   "cell_type": "code",
   "execution_count": 3,
   "metadata": {},
   "outputs": [
    {
     "name": "stdout",
     "output_type": "stream",
     "text": [
      "합격\n"
     ]
    }
   ],
   "source": [
    "kor, eng, mat, sci = map(int, input().split())\n",
    "if (0<=kor<=100) and (0<=eng<=100) and (0<=mat<=100) and (0<=sci<=100):\n",
    "    avg = (kor + eng + mat + sci) / 4\n",
    "    if avg >= 80:\n",
    "        print('합격')\n",
    "    else:\n",
    "        print('불합격')\n",
    "else:\n",
    "    print('잘못된 점수')"
   ]
  },
  {
   "cell_type": "code",
   "execution_count": 4,
   "metadata": {},
   "outputs": [
    {
     "name": "stdout",
     "output_type": "stream",
     "text": [
      "잘못된 점수\n"
     ]
    }
   ],
   "source": [
    "# list를 사용해서 개선된 코드\n",
    "scores = list(map(int, input().split()))\n",
    "if min(scores) < 0 or max(scores) > 100:\n",
    "    print('잘못된 점수')\n",
    "else:\n",
    "    avg = sum(scores) / len(scores)\n",
    "    if avg >= 80:\n",
    "        print('합격')\n",
    "    else:\n",
    "        print('불합격')"
   ]
  },
  {
   "cell_type": "markdown",
   "metadata": {},
   "source": [
    "#### 심사문제 15.4\n",
    "표준 입력으로 나이(만 나이)가 입력됩니다(입력 값은 7 이상 입력됨).<br>\n",
    "교통카드 시스템에서 시내버스 요금은 다음과 같으며 각 나이에 맞게 요금을 차감한 뒤 잔액이 출력되게 만드세요(if, elif 사용).<br>\n",
    "현재 교통카드에는 9,000원이 들어있습니다.\n",
    "\n",
    "- 어린이(초등학생, 만 7세 이상 12세 이하): 650원\n",
    "- 청소년(중∙고등학생, 만 13세 이상 18세 이하): 1,050원\n",
    "- 어른(일반, 만 19세 이상): 1,250원"
   ]
  },
  {
   "cell_type": "code",
   "execution_count": 5,
   "metadata": {},
   "outputs": [
    {
     "name": "stdout",
     "output_type": "stream",
     "text": [
      "20살의 요금은 1,250원이고, 잔액은 7,750원입니다.\n"
     ]
    }
   ],
   "source": [
    "balance = 9000\n",
    "age = int(input())\n",
    "\n",
    "if 7 <= age <= 12:\n",
    "    fare = 650\n",
    "elif 13 <= age <= 18:\n",
    "    fare = 1050\n",
    "elif age >= 19:\n",
    "    fare = 1250\n",
    "else:\n",
    "    fare = 0\n",
    "balance -= fare\n",
    "print(f'{age}살의 요금은 {fare:,d}원이고, 잔액은 {balance:,d}원입니다.')"
   ]
  },
  {
   "cell_type": "code",
   "execution_count": null,
   "metadata": {},
   "outputs": [],
   "source": []
  }
 ],
 "metadata": {
  "kernelspec": {
   "display_name": "base",
   "language": "python",
   "name": "python3"
  },
  "language_info": {
   "codemirror_mode": {
    "name": "ipython",
    "version": 3
   },
   "file_extension": ".py",
   "mimetype": "text/x-python",
   "name": "python",
   "nbconvert_exporter": "python",
   "pygments_lexer": "ipython3",
   "version": "3.11.4"
  },
  "orig_nbformat": 4
 },
 "nbformat": 4,
 "nbformat_minor": 2
}
