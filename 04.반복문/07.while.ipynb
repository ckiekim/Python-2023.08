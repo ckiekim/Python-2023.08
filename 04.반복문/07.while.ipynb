{
 "cells": [
  {
   "cell_type": "markdown",
   "metadata": {},
   "source": [
    "### 4.7 While 반복문"
   ]
  },
  {
   "cell_type": "markdown",
   "metadata": {},
   "source": [
    "- unix time 사례"
   ]
  },
  {
   "cell_type": "code",
   "execution_count": 1,
   "metadata": {},
   "outputs": [
    {
     "data": {
      "text/plain": [
       "1693442843.9353788"
      ]
     },
     "execution_count": 1,
     "metadata": {},
     "output_type": "execute_result"
    }
   ],
   "source": [
    "import time\n",
    "time.time()"
   ]
  },
  {
   "cell_type": "code",
   "execution_count": 2,
   "metadata": {},
   "outputs": [
    {
     "name": "stdout",
     "output_type": "stream",
     "text": [
      "5초가 지났습니다.\n"
     ]
    }
   ],
   "source": [
    "# 5초 후에 프린트\n",
    "target_time = time.time() + 5\n",
    "number = 0\n",
    "while time.time() < target_time:\n",
    "    number += 1\n",
    "print('5초가 지났습니다.')"
   ]
  },
  {
   "cell_type": "code",
   "execution_count": 3,
   "metadata": {},
   "outputs": [
    {
     "name": "stdout",
     "output_type": "stream",
     "text": [
      "5초동안 22615356번 틱이 발생\n"
     ]
    }
   ],
   "source": [
    "# 5초 동안 tick 횟수\n",
    "target_time = time.time() + 5\n",
    "number = 0\n",
    "while time.time() < target_time:\n",
    "    number += 1\n",
    "print(f'5초동안 {number}번 틱이 발생')"
   ]
  },
  {
   "cell_type": "markdown",
   "metadata": {},
   "source": [
    "- break"
   ]
  },
  {
   "cell_type": "code",
   "execution_count": 4,
   "metadata": {},
   "outputs": [
    {
     "name": "stdout",
     "output_type": "stream",
     "text": [
      "10000001번 틱이 발생\n"
     ]
    }
   ],
   "source": [
    "# tick이 10000000번을 넘거나, 5초가 지나면 loop 탈출\n",
    "target_time = time.time() + 5\n",
    "number = 0\n",
    "while time.time() < target_time:\n",
    "    number += 1\n",
    "    if number > 10000000:\n",
    "        break\n",
    "print(f'{number}번 틱이 발생')"
   ]
  },
  {
   "cell_type": "code",
   "execution_count": 6,
   "metadata": {},
   "outputs": [
    {
     "name": "stdout",
     "output_type": "stream",
     "text": [
      "1 4 3 2 2 1 3 6 1 3 2 2 2 1 4 6 1 5 "
     ]
    }
   ],
   "source": [
    "# 주사위를 던져서 5가 나오면 loop 탈출\n",
    "import random\n",
    "while True:\n",
    "    dice = random.randint(1, 6)\n",
    "    print(dice, end=' ')\n",
    "    if dice == 5:\n",
    "        break"
   ]
  },
  {
   "cell_type": "markdown",
   "metadata": {},
   "source": [
    "- continue"
   ]
  },
  {
   "cell_type": "code",
   "execution_count": 8,
   "metadata": {},
   "outputs": [
    {
     "name": "stdout",
     "output_type": "stream",
     "text": [
      "3과 5의 배수를 제외한 수를 1부터 61까지 더하면 1000을 넘기고, 그때의 값은 1021\n"
     ]
    }
   ],
   "source": [
    "# 1 에서 몇까지 더하면 1000을 넘기는가?\n",
    "# 단, 3의 배수와 5의 배수는 더하지 않는다.\n",
    "sum, i = 0, 0\n",
    "while True:\n",
    "    i += 1\n",
    "    if i % 3 == 0 or i % 5 == 0:\n",
    "        continue\n",
    "    sum += i\n",
    "    if sum > 1000:\n",
    "        break\n",
    "print(f'3과 5의 배수를 제외한 수를 1부터 {i}까지 더하면 1000을 넘기고, 그때의 값은 {sum}')"
   ]
  },
  {
   "cell_type": "code",
   "execution_count": null,
   "metadata": {},
   "outputs": [],
   "source": []
  }
 ],
 "metadata": {
  "kernelspec": {
   "display_name": "base",
   "language": "python",
   "name": "python3"
  },
  "language_info": {
   "codemirror_mode": {
    "name": "ipython",
    "version": 3
   },
   "file_extension": ".py",
   "mimetype": "text/x-python",
   "name": "python",
   "nbconvert_exporter": "python",
   "pygments_lexer": "ipython3",
   "version": "3.11.4"
  },
  "orig_nbformat": 4
 },
 "nbformat": 4,
 "nbformat_minor": 2
}
