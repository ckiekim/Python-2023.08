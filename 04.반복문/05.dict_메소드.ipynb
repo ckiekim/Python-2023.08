{
 "cells": [
  {
   "cell_type": "markdown",
   "metadata": {},
   "source": [
    "### 4.5 딕셔너리 메소드"
   ]
  },
  {
   "cell_type": "markdown",
   "metadata": {},
   "source": [
    "- 빈 딕셔너리 생성"
   ]
  },
  {
   "cell_type": "code",
   "execution_count": 1,
   "metadata": {},
   "outputs": [],
   "source": [
    "a = {}\n",
    "person = dict()"
   ]
  },
  {
   "cell_type": "markdown",
   "metadata": {},
   "source": [
    "- 키-밸류 추가"
   ]
  },
  {
   "cell_type": "code",
   "execution_count": 2,
   "metadata": {},
   "outputs": [
    {
     "data": {
      "text/plain": [
       "{'name': 'Maria', 'age': 25, 'job': 'teacher'}"
      ]
     },
     "execution_count": 2,
     "metadata": {},
     "output_type": "execute_result"
    }
   ],
   "source": [
    "person['name'] = 'Maria'\n",
    "person['age'] = 25\n",
    "person['job'] = 'teacher'\n",
    "person"
   ]
  },
  {
   "cell_type": "markdown",
   "metadata": {},
   "source": [
    "- 반복문"
   ]
  },
  {
   "cell_type": "code",
   "execution_count": 3,
   "metadata": {},
   "outputs": [
    {
     "data": {
      "text/plain": [
       "dict_keys(['name', 'age', 'job'])"
      ]
     },
     "execution_count": 3,
     "metadata": {},
     "output_type": "execute_result"
    }
   ],
   "source": [
    "person.keys()"
   ]
  },
  {
   "cell_type": "code",
   "execution_count": 5,
   "metadata": {},
   "outputs": [
    {
     "name": "stdout",
     "output_type": "stream",
     "text": [
      "name : Maria\n",
      "age : 25\n",
      "job : teacher\n"
     ]
    }
   ],
   "source": [
    "for key in person.keys():\n",
    "    print(key, ':', person[key])"
   ]
  },
  {
   "cell_type": "code",
   "execution_count": 6,
   "metadata": {},
   "outputs": [
    {
     "name": "stdout",
     "output_type": "stream",
     "text": [
      "name : Maria\n",
      "age : 25\n",
      "job : teacher\n"
     ]
    }
   ],
   "source": [
    "# keys() method를 사용하지 않아도 무방함\n",
    "for key in person:\n",
    "    print(key, ':', person[key])"
   ]
  },
  {
   "cell_type": "code",
   "execution_count": 7,
   "metadata": {},
   "outputs": [
    {
     "data": {
      "text/plain": [
       "dict_items([('name', 'Maria'), ('age', 25), ('job', 'teacher')])"
      ]
     },
     "execution_count": 7,
     "metadata": {},
     "output_type": "execute_result"
    }
   ],
   "source": [
    "person.items()"
   ]
  },
  {
   "cell_type": "code",
   "execution_count": 8,
   "metadata": {},
   "outputs": [
    {
     "name": "stdout",
     "output_type": "stream",
     "text": [
      "name : Maria\n",
      "age : 25\n",
      "job : teacher\n"
     ]
    }
   ],
   "source": [
    "for key, value in person.items():\n",
    "    print(key, ':', value)"
   ]
  },
  {
   "cell_type": "markdown",
   "metadata": {},
   "source": [
    "- 실전 사례: 행안부 도로명주소 API"
   ]
  },
  {
   "cell_type": "code",
   "execution_count": 9,
   "metadata": {},
   "outputs": [],
   "source": [
    "result = {'results': {'common': {'errorMessage': '정상',\n",
    "   'countPerPage': '10',\n",
    "   'totalCount': '1',\n",
    "   'errorCode': '0',\n",
    "   'currentPage': '1'},\n",
    "  'juso': [{'detBdNmList': '',\n",
    "    'engAddr': '768, Bijarim-ro, Jocheon-eup, Jeju-si, Jeju-do',\n",
    "    'rn': '비자림로',\n",
    "    'emdNm': '조천읍',\n",
    "    'zipNo': '63346',\n",
    "    'roadAddrPart2': '',\n",
    "    'emdNo': '02',\n",
    "    'sggNm': '제주시',\n",
    "    'jibunAddr': '제주특별자치도 제주시 조천읍 교래리 342-2 산굼부리',\n",
    "    'siNm': '제주특별자치도',\n",
    "    'roadAddrPart1': '제주특별자치도 제주시 조천읍 비자림로 768',\n",
    "    'bdNm': '산굼부리',\n",
    "    'admCd': '5011025929',\n",
    "    'udrtYn': '0',\n",
    "    'lnbrMnnm': '342',\n",
    "    'roadAddr': '제주특별자치도 제주시 조천읍 비자림로 768',\n",
    "    'lnbrSlno': '2',\n",
    "    'buldMnnm': '768',\n",
    "    'bdKdcd': '0',\n",
    "    'liNm': '교래리',\n",
    "    'rnMgtSn': '501103349079',\n",
    "    'mtYn': '0',\n",
    "    'bdMgtSn': '5011025929003420005071420',\n",
    "    'buldSlno': '0'}]}}"
   ]
  },
  {
   "cell_type": "code",
   "execution_count": 10,
   "metadata": {},
   "outputs": [
    {
     "data": {
      "text/plain": [
       "dict_keys(['results'])"
      ]
     },
     "execution_count": 10,
     "metadata": {},
     "output_type": "execute_result"
    }
   ],
   "source": [
    "result.keys()"
   ]
  },
  {
   "cell_type": "code",
   "execution_count": 11,
   "metadata": {},
   "outputs": [
    {
     "data": {
      "text/plain": [
       "dict_keys(['common', 'juso'])"
      ]
     },
     "execution_count": 11,
     "metadata": {},
     "output_type": "execute_result"
    }
   ],
   "source": [
    "result['results'].keys()"
   ]
  },
  {
   "cell_type": "code",
   "execution_count": 12,
   "metadata": {},
   "outputs": [
    {
     "data": {
      "text/plain": [
       "dict_keys(['detBdNmList', 'engAddr', 'rn', 'emdNm', 'zipNo', 'roadAddrPart2', 'emdNo', 'sggNm', 'jibunAddr', 'siNm', 'roadAddrPart1', 'bdNm', 'admCd', 'udrtYn', 'lnbrMnnm', 'roadAddr', 'lnbrSlno', 'buldMnnm', 'bdKdcd', 'liNm', 'rnMgtSn', 'mtYn', 'bdMgtSn', 'buldSlno'])"
      ]
     },
     "execution_count": 12,
     "metadata": {},
     "output_type": "execute_result"
    }
   ],
   "source": [
    "result['results']['juso'][0].keys()"
   ]
  },
  {
   "cell_type": "code",
   "execution_count": 13,
   "metadata": {},
   "outputs": [
    {
     "data": {
      "text/plain": [
       "'제주특별자치도 제주시 조천읍 비자림로 768'"
      ]
     },
     "execution_count": 13,
     "metadata": {},
     "output_type": "execute_result"
    }
   ],
   "source": [
    "result['results']['juso'][0]['roadAddr']"
   ]
  },
  {
   "cell_type": "code",
   "execution_count": null,
   "metadata": {},
   "outputs": [],
   "source": []
  }
 ],
 "metadata": {
  "kernelspec": {
   "display_name": "base",
   "language": "python",
   "name": "python3"
  },
  "language_info": {
   "codemirror_mode": {
    "name": "ipython",
    "version": 3
   },
   "file_extension": ".py",
   "mimetype": "text/x-python",
   "name": "python",
   "nbconvert_exporter": "python",
   "pygments_lexer": "ipython3",
   "version": "3.11.4"
  },
  "orig_nbformat": 4
 },
 "nbformat": 4,
 "nbformat_minor": 2
}
