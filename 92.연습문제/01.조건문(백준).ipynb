{
 "cells": [
  {
   "cell_type": "markdown",
   "metadata": {},
   "source": [
    "#### 백준#14681\n",
    "흔한 수학 문제 중 하나는 주어진 점이 어느 사분면에 속하는지 알아내는 것이다.<br>\n",
    "\n",
    "예를 들어, 좌표가 (12, 5)인 점 A는 x좌표와 y좌표가 모두 양수이므로 제1사분면에 속한다. <br>\n",
    "점 B는 x좌표가 음수이고 y좌표가 양수이므로 제2사분면에 속한다.\n",
    "\n",
    "점의 좌표를 입력받아 그 점이 어느 사분면에 속하는지 알아내는 프로그램을 작성하시오. <br>\n",
    "단, x좌표와 y좌표는 모두 양수나 음수라고 가정한다."
   ]
  },
  {
   "cell_type": "code",
   "execution_count": 2,
   "metadata": {},
   "outputs": [
    {
     "name": "stdout",
     "output_type": "stream",
     "text": [
      "(1.2, -3.4): Quadrant IV\n"
     ]
    }
   ],
   "source": [
    "x, y = map(float, input('두개의 실수 입력> ').split())\n",
    "if x > 0. and y > 0.:\n",
    "    print(f'({x}, {y}): Quadrant I')\n",
    "elif x < 0. and y > 0.:\n",
    "    print(f'({x}, {y}): Quadrant II')\n",
    "elif x < 0. and y < 0.:\n",
    "    print(f'({x}, {y}): Quadrant III')\n",
    "elif x > 0. and y < 0.:\n",
    "    print(f'({x}, {y}): Quadrant IV')\n",
    "else:\n",
    "    print('잘못된 좌표')"
   ]
  },
  {
   "cell_type": "markdown",
   "metadata": {},
   "source": [
    "#### 백준#2884\n",
    "상근이는 매일 아침 알람을 듣고 일어난다. 알람을 듣고 바로 일어나면 다행이겠지만, 항상 조금만 더 자려는 마음 때문에 매일 학교를 지각하고 있다.<br>\n",
    "\n",
    "상근이는 모든 방법을 동원해보았지만, 조금만 더 자려는 마음은 그 어떤 것도 없앨 수가 없었다.<br>\n",
    "이런 상근이를 불쌍하게 보던 창영이는 자신이 사용하는 방법을 추천해 주었다.<br>\n",
    "\n",
    "바로 \"45분 일찍 알람 설정하기\"이다.<br>\n",
    "\n",
    "이 방법은 단순하다. 원래 설정되어 있는 알람을 45분 앞서는 시간으로 바꾸는 것이다. 어차피 알람 소리를 들으면, 알람을 끄고 조금 더 잘 것이기 때문이다. 이 방법을 사용하면, 매일 아침 더 잤다는 기분을 느낄 수 있고, 학교도 지각하지 않게 된다.<br>\n",
    "\n",
    "현재 상근이가 설정한 알람 시각이 주어졌을 때, 창영이의 방법을 사용한다면, 이를 언제로 고쳐야 하는지 구하는 프로그램을 작성하시오."
   ]
  },
  {
   "cell_type": "code",
   "execution_count": 5,
   "metadata": {},
   "outputs": [
    {
     "name": "stdout",
     "output_type": "stream",
     "text": [
      "23:45\n"
     ]
    }
   ],
   "source": [
    "hour, minute = map(int, input('시 분 입력> ').split())\n",
    "if minute >= 45:\n",
    "    new_hour = hour\n",
    "    new_minute = minute - 45\n",
    "else:\n",
    "    if hour == 0:\n",
    "        new_hour = 23\n",
    "    else:\n",
    "        new_hour = hour - 1\n",
    "    new_minute = minute + 60 - 45\n",
    "print(f'{new_hour:02d}:{new_minute:02d}')"
   ]
  },
  {
   "cell_type": "code",
   "execution_count": 7,
   "metadata": {},
   "outputs": [
    {
     "name": "stdout",
     "output_type": "stream",
     "text": [
      "05:45\n"
     ]
    }
   ],
   "source": [
    "hour, minute = map(int, input('시 분 입력> ').split())\n",
    "if minute >= 45:\n",
    "    new_hour = hour\n",
    "    new_minute = minute - 45\n",
    "else:\n",
    "    new_hour = (hour + 24 - 1) % 24\n",
    "    new_minute = minute + 60 - 45\n",
    "print(f'{new_hour:02d}:{new_minute:02d}')"
   ]
  },
  {
   "cell_type": "markdown",
   "metadata": {},
   "source": [
    "#### 백준#2525\n",
    "KOI 전자에서는 건강에 좋고 맛있는 훈제오리구이 요리를 간편하게 만드는 인공지능 오븐을 개발하려고 한다. 인공지능 오븐을 사용하는 방법은 적당한 양의 오리 훈제 재료를 인공지능 오븐에 넣으면 된다. 그러면 인공지능 오븐은 오븐구이가 끝나는 시간을 분 단위로 자동적으로 계산한다. <br>\n",
    "\n",
    "또한, KOI 전자의 인공지능 오븐 앞면에는 사용자에게 훈제오리구이 요리가 끝나는 시각을 알려 주는 디지털 시계가 있다. <br>\n",
    "\n",
    "훈제오리구이를 시작하는 시각과 오븐구이를 하는 데 필요한 시간이 분단위로 주어졌을 때, 오븐구이가 끝나는 시각을 계산하는 프로그램을 작성하시오.<br>\n",
    "\n",
    "첫째 줄에는 현재 시각이 나온다. 현재 시각은 시 A (0 ≤ A ≤ 23) 와 분 B (0 ≤ B ≤ 59)가 정수로 빈칸을 사이에 두고 순서대로 주어진다. 두 번째 줄에는 요리하는 데 필요한 시간 C (0 ≤ C ≤ 1,000)가 분 단위로 주어진다. "
   ]
  },
  {
   "cell_type": "code",
   "execution_count": 13,
   "metadata": {},
   "outputs": [
    {
     "name": "stdout",
     "output_type": "stream",
     "text": [
      "21:30\n"
     ]
    }
   ],
   "source": [
    "hour, minute, cook_time = map(int, input('시 분 조리시간 입력> ').split())\n",
    "cook_hour, cook_minute = divmod(cook_time, 60)      # cook_time // 60, cook_time % 60\n",
    "if minute + cook_minute >= 60:\n",
    "    new_hour = (hour + cook_hour + 1) % 24\n",
    "    new_minute = minute + cook_minute - 60\n",
    "else:\n",
    "    new_hour = (hour + cook_hour) % 24\n",
    "    new_minute = minute + cook_minute\n",
    "print(f'{new_hour:02d}:{new_minute:02d}')"
   ]
  },
  {
   "cell_type": "code",
   "execution_count": 14,
   "metadata": {},
   "outputs": [
    {
     "name": "stdout",
     "output_type": "stream",
     "text": [
      "21:30\n"
     ]
    }
   ],
   "source": [
    "new_hour, new_minute = ((hour*60 + minute + cook_time) // 60) % 24, (hour*60 + minute + cook_time) % 60\n",
    "print(f'{new_hour:02d}:{new_minute:02d}')"
   ]
  },
  {
   "cell_type": "markdown",
   "metadata": {},
   "source": [
    "#### 백준#2480\n",
    "1에서부터 6까지의 눈을 가진 3개의 주사위를 던져서 다음과 같은 규칙에 따라 상금을 받는 게임이 있다. \n",
    "\n",
    "- 같은 눈이 3개가 나오면 10,000원+(같은 눈)×1,000원의 상금을 받게 된다. \n",
    "- 같은 눈이 2개만 나오는 경우에는 1,000원+(같은 눈)×100원의 상금을 받게 된다. \n",
    "- 모두 다른 눈이 나오는 경우에는 (그 중 가장 큰 눈)×100원의 상금을 받게 된다.  <br>\n",
    "\n",
    "예를 들어, 3개의 눈 3, 3, 6이 주어지면 상금은 1,000+3×100으로 계산되어 1,300원을 받게 된다. 또 3개의 눈이 2, 2, 2로 주어지면 10,000+2×1,000 으로 계산되어 12,000원을 받게 된다. 3개의 눈이 6, 2, 5로 주어지면 그중 가장 큰 값이 6이므로 6×100으로 계산되어 600원을 상금으로 받게 된다.<br>\n",
    "\n",
    "3개 주사위의 나온 눈이 주어질 때, 상금을 계산하는 프로그램을 작성 하시오."
   ]
  },
  {
   "cell_type": "code",
   "execution_count": 19,
   "metadata": {},
   "outputs": [
    {
     "name": "stdout",
     "output_type": "stream",
     "text": [
      "500\n"
     ]
    }
   ],
   "source": [
    "dice1, dice2, dice3 = map(int, input().split())\n",
    "if dice1 == dice2 == dice3:\n",
    "    prize = 10000 + dice1 * 1000\n",
    "elif dice1 == dice2 or dice1 == dice3:\n",
    "    prize = 1000 + dice1 * 100\n",
    "elif dice2 == dice3:\n",
    "    prize = 1000 + dice2 * 100\n",
    "else:\n",
    "    max_val = max([dice1, dice2, dice3])\n",
    "    prize = max_val * 100\n",
    "print(prize)"
   ]
  },
  {
   "cell_type": "code",
   "execution_count": 20,
   "metadata": {},
   "outputs": [
    {
     "name": "stdout",
     "output_type": "stream",
     "text": [
      "5\n"
     ]
    }
   ],
   "source": [
    "# 세개의 값에서 최대값을 찾는 문제\n",
    "a, b, c = 3, 5, 2\n",
    "if a > b and a > c:\n",
    "    print(a)\n",
    "if b > a and b > c:\n",
    "    print(b)\n",
    "if c > a and c > b:\n",
    "    print(c)"
   ]
  },
  {
   "cell_type": "code",
   "execution_count": null,
   "metadata": {},
   "outputs": [],
   "source": []
  }
 ],
 "metadata": {
  "kernelspec": {
   "display_name": "base",
   "language": "python",
   "name": "python3"
  },
  "language_info": {
   "codemirror_mode": {
    "name": "ipython",
    "version": 3
   },
   "file_extension": ".py",
   "mimetype": "text/x-python",
   "name": "python",
   "nbconvert_exporter": "python",
   "pygments_lexer": "ipython3",
   "version": "3.11.4"
  },
  "orig_nbformat": 4
 },
 "nbformat": 4,
 "nbformat_minor": 2
}
