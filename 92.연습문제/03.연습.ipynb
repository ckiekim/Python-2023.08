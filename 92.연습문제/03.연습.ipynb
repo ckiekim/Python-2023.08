{
 "cells": [
  {
   "cell_type": "markdown",
   "metadata": {},
   "source": [
    "#### Q1. 하루중 디지털 시계에서 3이 표시되는 시간은 몇 초인가?"
   ]
  },
  {
   "cell_type": "code",
   "execution_count": 1,
   "metadata": {},
   "outputs": [
    {
     "name": "stdout",
     "output_type": "stream",
     "text": [
      "29700\n"
     ]
    }
   ],
   "source": [
    "seconds = 0\n",
    "for hour in range(24):\n",
    "    for minute in range(60):\n",
    "        clock = f'{hour:02d}:{minute:02d}'\n",
    "        if str(3) in clock:\n",
    "            seconds += 60\n",
    "print(seconds)"
   ]
  },
  {
   "cell_type": "markdown",
   "metadata": {},
   "source": [
    "#### Q2. 람다함수\n",
    "다음 리스트에서 제조사와 모델명을 분리해서 별도의 리스트를 만드세요.\n",
    "\n",
    "cars = ['buick skylark 320', 'plymouth satellite', 'amc rebel sst', 'ford torino']"
   ]
  },
  {
   "cell_type": "code",
   "execution_count": 4,
   "metadata": {},
   "outputs": [
    {
     "data": {
      "text/plain": [
       "('ford', 'torino')"
      ]
     },
     "execution_count": 4,
     "metadata": {},
     "output_type": "execute_result"
    }
   ],
   "source": [
    "x = 'buick skylark 320'\n",
    "y = 'ford torino'\n",
    "manu = y.split()[0]\n",
    "model = ' '.join(y.split()[1:])\n",
    "manu, model"
   ]
  },
  {
   "cell_type": "code",
   "execution_count": 5,
   "metadata": {},
   "outputs": [
    {
     "data": {
      "text/plain": [
       "['buick', 'plymouth', 'amc', 'ford']"
      ]
     },
     "execution_count": 5,
     "metadata": {},
     "output_type": "execute_result"
    }
   ],
   "source": [
    "cars = ['buick skylark 320', 'plymouth satellite', 'amc rebel sst', 'ford torino']\n",
    "manu_list = list(map(lambda x: x.split()[0], cars))\n",
    "manu_list"
   ]
  },
  {
   "cell_type": "code",
   "execution_count": 6,
   "metadata": {},
   "outputs": [
    {
     "data": {
      "text/plain": [
       "['skylark 320', 'satellite', 'rebel sst', 'torino']"
      ]
     },
     "execution_count": 6,
     "metadata": {},
     "output_type": "execute_result"
    }
   ],
   "source": [
    "model_list = list(map(lambda x: ' '.join(x.split()[1:]), cars))\n",
    "model_list"
   ]
  },
  {
   "cell_type": "code",
   "execution_count": null,
   "metadata": {},
   "outputs": [],
   "source": []
  }
 ],
 "metadata": {
  "kernelspec": {
   "display_name": "base",
   "language": "python",
   "name": "python3"
  },
  "language_info": {
   "codemirror_mode": {
    "name": "ipython",
    "version": 3
   },
   "file_extension": ".py",
   "mimetype": "text/x-python",
   "name": "python",
   "nbconvert_exporter": "python",
   "pygments_lexer": "ipython3",
   "version": "3.11.4"
  },
  "orig_nbformat": 4
 },
 "nbformat": 4,
 "nbformat_minor": 2
}
