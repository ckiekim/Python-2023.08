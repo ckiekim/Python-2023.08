{
 "cells": [
  {
   "cell_type": "markdown",
   "metadata": {},
   "source": [
    "### 8.3 캡슐화(Encapsulation)\n",
    "- 속성값, 메소드 이름에 __ 를 붙이면 비공개 속성"
   ]
  },
  {
   "cell_type": "code",
   "execution_count": 1,
   "metadata": {},
   "outputs": [],
   "source": [
    "class Tmoney:\n",
    "    def __init__(self, age, balance):\n",
    "        self.age = age\n",
    "        self.__balance = balance\n",
    "        self.fare = 1350 if self.age >= 19 else \\\n",
    "                        1050 if self.age >= 13 else \\\n",
    "                            650 if self.age >= 7 else 0\n",
    "\n",
    "    def pay(self):\n",
    "        if self.fare <= self.__balance:\n",
    "            self.__balance -= self.fare\n",
    "            print(f'{self.age}살의 요금은 {self.fare:,d}원이고, 잔액은 {self.__balance:,d}원입니다.')\n",
    "        else:\n",
    "            print('잔액이 부족합니다.ㅠㅠ')\n",
    "\n",
    "    def charge(self, amount):\n",
    "        self.__balance += amount\n",
    "        print(f'{amount:,d}원을 충전하였고, 잔액은 {self.__balance:,d}원입니다.')\n",
    "\n",
    "    def get_balance(self):\n",
    "        return self.__balance"
   ]
  },
  {
   "cell_type": "code",
   "execution_count": 2,
   "metadata": {},
   "outputs": [
    {
     "data": {
      "text/plain": [
       "25"
      ]
     },
     "execution_count": 2,
     "metadata": {},
     "output_type": "execute_result"
    }
   ],
   "source": [
    "card = Tmoney(25, 10000)\n",
    "card.age"
   ]
  },
  {
   "cell_type": "code",
   "execution_count": 4,
   "metadata": {},
   "outputs": [
    {
     "ename": "AttributeError",
     "evalue": "'Tmoney' object has no attribute '__balance'",
     "output_type": "error",
     "traceback": [
      "\u001b[1;31m---------------------------------------------------------------------------\u001b[0m",
      "\u001b[1;31mAttributeError\u001b[0m                            Traceback (most recent call last)",
      "Cell \u001b[1;32mIn[4], line 2\u001b[0m\n\u001b[0;32m      1\u001b[0m \u001b[39m# balance는 비공개 속성이므로 속성을 직접적으로 액세스할 수 없음\u001b[39;00m\n\u001b[1;32m----> 2\u001b[0m card\u001b[39m.\u001b[39m__balance\n",
      "\u001b[1;31mAttributeError\u001b[0m: 'Tmoney' object has no attribute '__balance'"
     ]
    }
   ],
   "source": [
    "# balance는 비공개 속성이므로 속성을 직접적으로 액세스할 수 없음\n",
    "card.__balance"
   ]
  },
  {
   "cell_type": "code",
   "execution_count": 5,
   "metadata": {},
   "outputs": [
    {
     "data": {
      "text/plain": [
       "10000"
      ]
     },
     "execution_count": 5,
     "metadata": {},
     "output_type": "execute_result"
    }
   ],
   "source": [
    "card.get_balance()"
   ]
  },
  {
   "cell_type": "code",
   "execution_count": 6,
   "metadata": {},
   "outputs": [
    {
     "name": "stdout",
     "output_type": "stream",
     "text": [
      "25살의 요금은 1,350원이고, 잔액은 8,650원입니다.\n",
      "25살의 요금은 1,350원이고, 잔액은 7,300원입니다.\n",
      "25살의 요금은 1,350원이고, 잔액은 5,950원입니다.\n",
      "25살의 요금은 1,350원이고, 잔액은 4,600원입니다.\n",
      "25살의 요금은 1,350원이고, 잔액은 3,250원입니다.\n",
      "25살의 요금은 1,350원이고, 잔액은 1,900원입니다.\n",
      "25살의 요금은 1,350원이고, 잔액은 550원입니다.\n",
      "잔액이 부족합니다.ㅠㅠ\n",
      "잔액이 부족합니다.ㅠㅠ\n",
      "잔액이 부족합니다.ㅠㅠ\n"
     ]
    }
   ],
   "source": [
    "for i in range(10):\n",
    "    card.pay()"
   ]
  },
  {
   "cell_type": "code",
   "execution_count": null,
   "metadata": {},
   "outputs": [],
   "source": []
  }
 ],
 "metadata": {
  "kernelspec": {
   "display_name": "base",
   "language": "python",
   "name": "python3"
  },
  "language_info": {
   "codemirror_mode": {
    "name": "ipython",
    "version": 3
   },
   "file_extension": ".py",
   "mimetype": "text/x-python",
   "name": "python",
   "nbconvert_exporter": "python",
   "pygments_lexer": "ipython3",
   "version": "3.11.4"
  },
  "orig_nbformat": 4
 },
 "nbformat": 4,
 "nbformat_minor": 2
}
