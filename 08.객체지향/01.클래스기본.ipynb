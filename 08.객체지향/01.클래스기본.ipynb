{
 "cells": [
  {
   "cell_type": "markdown",
   "metadata": {},
   "source": [
    "## 8. 객체 지향\n",
    "### 8.1 클래스의 기본"
   ]
  },
  {
   "cell_type": "markdown",
   "metadata": {},
   "source": [
    "- 사람의 정보를 저장하는 자료 만들기"
   ]
  },
  {
   "cell_type": "code",
   "execution_count": 1,
   "metadata": {},
   "outputs": [],
   "source": [
    "# 리스트\n",
    "person_list = ['James', 175.0, 'programmer', 27]"
   ]
  },
  {
   "cell_type": "code",
   "execution_count": 2,
   "metadata": {},
   "outputs": [],
   "source": [
    "# 딕셔너리\n",
    "person_dict = {\n",
    "    'name':'James', 'height':175.0, 'job':'programmer', 'age':27\n",
    "}"
   ]
  },
  {
   "cell_type": "code",
   "execution_count": 3,
   "metadata": {},
   "outputs": [],
   "source": [
    "# 클래스\n",
    "class Person:\n",
    "    def __init__(self):         # 생성자 함수, 클래스 속성을 정의\n",
    "        self.name = 'James'\n",
    "        self.height = 175.0\n",
    "        self.job = 'programmer'\n",
    "        self.age = 27"
   ]
  },
  {
   "cell_type": "code",
   "execution_count": 4,
   "metadata": {},
   "outputs": [
    {
     "data": {
      "text/plain": [
       "('James', 'James')"
      ]
     },
     "execution_count": 4,
     "metadata": {},
     "output_type": "execute_result"
    }
   ],
   "source": [
    "# 이름을 참조하는 방법\n",
    "person_list[0], person_dict['name']"
   ]
  },
  {
   "cell_type": "code",
   "execution_count": 5,
   "metadata": {},
   "outputs": [
    {
     "data": {
      "text/plain": [
       "'James'"
      ]
     },
     "execution_count": 5,
     "metadata": {},
     "output_type": "execute_result"
    }
   ],
   "source": [
    "# 클래스는 먼저 객체를 생성한 후, 이름을 참조해야 함\n",
    "james = Person()\n",
    "james.name"
   ]
  },
  {
   "cell_type": "code",
   "execution_count": 6,
   "metadata": {},
   "outputs": [],
   "source": [
    "# 범용적으로 만들어, 객체를 생성할 때 속성의 값을 할당\n",
    "class Person2:\n",
    "    def __init__(self, name, height, job, age):\n",
    "        self.name = name\n",
    "        self.height = height\n",
    "        self.job = job\n",
    "        self.age = age"
   ]
  },
  {
   "cell_type": "code",
   "execution_count": 7,
   "metadata": {},
   "outputs": [],
   "source": [
    "james = Person2('James', 175.0, 'programmer', 27)\n",
    "maria = Person2('Maria', 165.0, 'designer', 25)"
   ]
  },
  {
   "cell_type": "code",
   "execution_count": 9,
   "metadata": {},
   "outputs": [
    {
     "data": {
      "text/plain": [
       "('Maria', 165.0, 'designer', 25)"
      ]
     },
     "execution_count": 9,
     "metadata": {},
     "output_type": "execute_result"
    }
   ],
   "source": [
    "maria.name, maria.height, maria.job, maria.age"
   ]
  },
  {
   "cell_type": "markdown",
   "metadata": {},
   "source": [
    "- 메소드(Method)\n",
    "    - 클래스가 가지는 함수\n",
    "    - 객체가 할 수 있는 행위를 모델링"
   ]
  },
  {
   "cell_type": "code",
   "execution_count": 8,
   "metadata": {},
   "outputs": [],
   "source": [
    "class Person3:\n",
    "    def __init__(self, name, height, job, age):\n",
    "        self.name = name\n",
    "        self.height = height\n",
    "        self.job = job\n",
    "        self.age = age\n",
    "\n",
    "    def get_info(self):\n",
    "        return f'이름: {self.name}, 키: {self.height}, 직업: {self.job}, 나이: {self.age}'"
   ]
  },
  {
   "cell_type": "code",
   "execution_count": 17,
   "metadata": {},
   "outputs": [],
   "source": [
    "james = Person3('James', 175.0, 'programmer', 27)\n",
    "maria = Person3('Maria', 165.0, 'designer', 25)"
   ]
  },
  {
   "cell_type": "code",
   "execution_count": 11,
   "metadata": {},
   "outputs": [
    {
     "data": {
      "text/plain": [
       "'이름: Maria, 키: 165.0, 직업: designer, 나이: 25'"
      ]
     },
     "execution_count": 11,
     "metadata": {},
     "output_type": "execute_result"
    }
   ],
   "source": [
    "maria.get_info()"
   ]
  },
  {
   "cell_type": "code",
   "execution_count": 18,
   "metadata": {},
   "outputs": [
    {
     "name": "stdout",
     "output_type": "stream",
     "text": [
      "<__main__.Person3 object at 0x000001245A6F4450>\n"
     ]
    }
   ],
   "source": [
    "print(maria)"
   ]
  },
  {
   "cell_type": "code",
   "execution_count": 13,
   "metadata": {},
   "outputs": [],
   "source": [
    "class Person4:\n",
    "    def __init__(self, name, height, job, age):\n",
    "        self.name = name\n",
    "        self.height = height\n",
    "        self.job = job\n",
    "        self.age = age\n",
    "\n",
    "    def get_info(self):\n",
    "        return f'이름: {self.name}, 키: {self.height}, 직업: {self.job}, 나이: {self.age}'\n",
    "    \n",
    "    def __str__(self):\n",
    "        return f'Person: 이름={self.name}, 키={self.height}, 직업={self.job}, 나이={self.age}'"
   ]
  },
  {
   "cell_type": "code",
   "execution_count": 19,
   "metadata": {},
   "outputs": [],
   "source": [
    "james = Person4('James', 175.0, 'programmer', 27)\n",
    "maria = Person4('Maria', 165.0, 'designer', 25)"
   ]
  },
  {
   "cell_type": "code",
   "execution_count": 20,
   "metadata": {},
   "outputs": [
    {
     "name": "stdout",
     "output_type": "stream",
     "text": [
      "Person: 이름=James, 키=175.0, 직업=programmer, 나이=27\n"
     ]
    }
   ],
   "source": [
    "print(james)"
   ]
  },
  {
   "cell_type": "markdown",
   "metadata": {},
   "source": [
    "- 연습문제: class Tmoney\n",
    "    - 속성: age, balance(잔액)\n",
    "    - pay() method\n",
    "        - age<7: 무료, 7<=age<=12: 650, 13<=age<=18: 1050, 19<=age: 1350\n",
    "        - oo살의 요금은 ooo원이고, 잔액은 ooo원입니다.\n",
    "        - 잔액이 부족하면 '잔액이 부족합니다.ㅠㅠ' 출력\n",
    "    - charge(amount) method\n",
    "        - amount 만큼의 금액을 balance에 추가"
   ]
  },
  {
   "cell_type": "code",
   "execution_count": 21,
   "metadata": {},
   "outputs": [],
   "source": [
    "class Tmoney:\n",
    "    def __init__(self, age, balance):\n",
    "        self.age = age\n",
    "        self.balance = balance\n",
    "\n",
    "    def pay(self):\n",
    "        if self.age < 7:\n",
    "            fare = 0\n",
    "        elif 7 <= self.age <= 12:\n",
    "            fare = 650\n",
    "        elif 13 <= self.age <= 18:\n",
    "            fare = 1050\n",
    "        else:\n",
    "            fare = 1350\n",
    "\n",
    "        if fare <= self.balance:\n",
    "            self.balance -= fare\n",
    "            print(f'{self.age}살의 요금은 {fare:,d}원이고, 잔액은 {self.balance:,d}원입니다.')\n",
    "        else:\n",
    "            print('잔액이 부족합니다.ㅠㅠ')\n",
    "\n",
    "    def charge(self, amount):\n",
    "        self.balance += amount\n",
    "        print(f'{amount:,d}원을 충전하였고, 잔액은 {self.balance:,d}원입니다.')"
   ]
  },
  {
   "cell_type": "code",
   "execution_count": 24,
   "metadata": {},
   "outputs": [],
   "source": [
    "# 개선 작업(Refactoring)\n",
    "class Tmoney:\n",
    "    def __init__(self, age, balance):\n",
    "        self.age = age\n",
    "        self.balance = balance\n",
    "        self.fare = 1350 if self.age >= 19 else \\\n",
    "                        1050 if self.age >= 13 else \\\n",
    "                            650 if self.age >= 7 else 0\n",
    "\n",
    "    def pay(self):\n",
    "        if self.fare <= self.balance:\n",
    "            self.balance -= self.fare\n",
    "            print(f'{self.age}살의 요금은 {self.fare:,d}원이고, 잔액은 {self.balance:,d}원입니다.')\n",
    "        else:\n",
    "            print('잔액이 부족합니다.ㅠㅠ')\n",
    "\n",
    "    def charge(self, amount):\n",
    "        self.balance += amount\n",
    "        print(f'{amount:,d}원을 충전하였고, 잔액은 {self.balance:,d}원입니다.')"
   ]
  },
  {
   "cell_type": "code",
   "execution_count": 30,
   "metadata": {},
   "outputs": [
    {
     "name": "stdout",
     "output_type": "stream",
     "text": [
      "24 살의 요금은 1,350원이고, 잔액은 650원입니다.\n",
      "10,000원을 충전하였고, 잔액은 10,650원입니다.\n"
     ]
    }
   ],
   "source": [
    "card = Tmoney(24, 2000)\n",
    "card.pay()\n",
    "card.charge(10000)"
   ]
  },
  {
   "cell_type": "code",
   "execution_count": 31,
   "metadata": {},
   "outputs": [
    {
     "name": "stdout",
     "output_type": "stream",
     "text": [
      "24 살의 요금은 1,350원이고, 잔액은 9,300원입니다.\n",
      "24 살의 요금은 1,350원이고, 잔액은 7,950원입니다.\n",
      "24 살의 요금은 1,350원이고, 잔액은 6,600원입니다.\n",
      "24 살의 요금은 1,350원이고, 잔액은 5,250원입니다.\n",
      "24 살의 요금은 1,350원이고, 잔액은 3,900원입니다.\n",
      "24 살의 요금은 1,350원이고, 잔액은 2,550원입니다.\n",
      "24 살의 요금은 1,350원이고, 잔액은 1,200원입니다.\n",
      "잔액이 부족합니다.ㅠㅠ\n",
      "잔액이 부족합니다.ㅠㅠ\n",
      "잔액이 부족합니다.ㅠㅠ\n"
     ]
    }
   ],
   "source": [
    "for _ in range(10):\n",
    "    card.pay()"
   ]
  },
  {
   "cell_type": "markdown",
   "metadata": {},
   "source": [
    "- Account 문제"
   ]
  },
  {
   "cell_type": "code",
   "execution_count": 1,
   "metadata": {},
   "outputs": [],
   "source": [
    "from account import Account"
   ]
  },
  {
   "cell_type": "code",
   "execution_count": 2,
   "metadata": {},
   "outputs": [
    {
     "name": "stdout",
     "output_type": "stream",
     "text": [
      "계좌번호: 230906, 소유주: 제임스, 잔액:    100,000\n",
      "계좌번호: 230906, 소유주: 제임스, 잔액:    300,000\n",
      "잔액이 부족합니다.\n",
      "계좌번호: 230906, 소유주: 제임스, 잔액:     50,000\n"
     ]
    }
   ],
   "source": [
    "acc = Account('230906', '제임스', 100000)\n",
    "print(acc)\n",
    "acc.deposit(200000)\n",
    "print(acc)\n",
    "acc.withdraw(400000)\n",
    "acc.withdraw(250000)\n",
    "print(acc)"
   ]
  },
  {
   "cell_type": "code",
   "execution_count": null,
   "metadata": {},
   "outputs": [],
   "source": []
  }
 ],
 "metadata": {
  "kernelspec": {
   "display_name": "base",
   "language": "python",
   "name": "python3"
  },
  "language_info": {
   "codemirror_mode": {
    "name": "ipython",
    "version": 3
   },
   "file_extension": ".py",
   "mimetype": "text/x-python",
   "name": "python",
   "nbconvert_exporter": "python",
   "pygments_lexer": "ipython3",
   "version": "3.11.4"
  },
  "orig_nbformat": 4
 },
 "nbformat": 4,
 "nbformat_minor": 2
}
