{
 "cells": [
  {
   "cell_type": "markdown",
   "metadata": {},
   "source": [
    "### 3.2 if / if ~ else 조건문"
   ]
  },
  {
   "cell_type": "markdown",
   "metadata": {},
   "source": [
    "- if 조건문"
   ]
  },
  {
   "cell_type": "code",
   "execution_count": 1,
   "metadata": {},
   "outputs": [],
   "source": [
    "num = int(input('양의 정수 입력'))"
   ]
  },
  {
   "cell_type": "code",
   "execution_count": 2,
   "metadata": {},
   "outputs": [
    {
     "name": "stdout",
     "output_type": "stream",
     "text": [
      "23 은/는 홀수입니다.\n"
     ]
    }
   ],
   "source": [
    "if num % 2 == 0:\n",
    "    print(f'{num} 은/는 짝수입니다.')\n",
    "else:\n",
    "    print(f'{num} 은/는 홀수입니다.')"
   ]
  },
  {
   "cell_type": "markdown",
   "metadata": {},
   "source": [
    "- 날짜/시간 관련"
   ]
  },
  {
   "cell_type": "code",
   "execution_count": 3,
   "metadata": {},
   "outputs": [
    {
     "data": {
      "text/plain": [
       "datetime.datetime(2023, 8, 29, 12, 8, 21, 29016)"
      ]
     },
     "execution_count": 3,
     "metadata": {},
     "output_type": "execute_result"
    }
   ],
   "source": [
    "import datetime\n",
    "datetime.datetime.now()"
   ]
  },
  {
   "cell_type": "code",
   "execution_count": 7,
   "metadata": {},
   "outputs": [
    {
     "data": {
      "text/plain": [
       "(2023, 8, 29, 12, 10, 5)"
      ]
     },
     "execution_count": 7,
     "metadata": {},
     "output_type": "execute_result"
    }
   ],
   "source": [
    "now = datetime.datetime.now()\n",
    "now.year, now.month, now.day, now.hour, now.minute, now.second"
   ]
  },
  {
   "cell_type": "code",
   "execution_count": 8,
   "metadata": {},
   "outputs": [
    {
     "name": "stdout",
     "output_type": "stream",
     "text": [
      "오후 12\n"
     ]
    }
   ],
   "source": [
    "# 오전인지 오후인지 판단\n",
    "now = datetime.datetime.now()\n",
    "if now.hour >= 12:\n",
    "    print('오후', now.hour)\n",
    "else:\n",
    "    print('오전', now.hour)"
   ]
  },
  {
   "cell_type": "code",
   "execution_count": 10,
   "metadata": {},
   "outputs": [],
   "source": [
    "# 계절 구분\n",
    "# 3 - 5월: 봄, 6 - 8월: 여름, 9 - 11월: 가을, 12 - 2: 겨울\n",
    "if 3 <= now.month <= 5:\n",
    "    print(f'{now.month}월은 봄입니다.')\n",
    "if 6 <= now.month <= 8:\n",
    "    print(f'{now.month}월은 여름입니다.')\n",
    "if 9 <= now.month <= 11:\n",
    "    print(f'{now.month}월은 가을입니다.')\n",
    "if now.month <= 2 or now.month >= 12:\n",
    "    print(f'{now.month}월은 겨울입니다.')"
   ]
  },
  {
   "cell_type": "markdown",
   "metadata": {},
   "source": [
    "- pass"
   ]
  },
  {
   "cell_type": "code",
   "execution_count": 11,
   "metadata": {},
   "outputs": [],
   "source": [
    "# 나중에 코드를 구현할 예정으로 에러 방지 및 모양 구비하는 코드\n",
    "if True:\n",
    "    pass"
   ]
  },
  {
   "cell_type": "markdown",
   "metadata": {},
   "source": [
    "- 들여쓰기(indentation)"
   ]
  },
  {
   "cell_type": "code",
   "execution_count": 12,
   "metadata": {},
   "outputs": [
    {
     "name": "stdout",
     "output_type": "stream",
     "text": [
      "23은 홀수입니다.\n",
      "이 부분은 조건이 참일때에만 실행됩니다.\n",
      "들여쓰기가 끝나면 조건과 관계없이 실행됩니다.\n"
     ]
    }
   ],
   "source": [
    "if num % 2 == 1:\n",
    "    print(f'{num}은 홀수입니다.')\n",
    "    print('이 부분은 조건이 참일때에만 실행됩니다.')\n",
    "print('들여쓰기가 끝나면 조건과 관계없이 실행됩니다.')"
   ]
  },
  {
   "cell_type": "markdown",
   "metadata": {},
   "source": [
    "- 조건부 표현식(3항 연산자)"
   ]
  },
  {
   "cell_type": "code",
   "execution_count": 13,
   "metadata": {},
   "outputs": [],
   "source": [
    "# Java, JavaScript\n",
    "# amPm = (hour >= 12) ? \"오후\" : \"오전\";"
   ]
  },
  {
   "cell_type": "code",
   "execution_count": 16,
   "metadata": {},
   "outputs": [
    {
     "data": {
      "text/plain": [
       "(12, '오후')"
      ]
     },
     "execution_count": 16,
     "metadata": {},
     "output_type": "execute_result"
    }
   ],
   "source": [
    "am_pm = '오후' if now.hour >= 12 else '오전'\n",
    "now.hour, am_pm"
   ]
  },
  {
   "cell_type": "code",
   "execution_count": 17,
   "metadata": {},
   "outputs": [
    {
     "data": {
      "text/plain": [
       "(23, '홀수')"
      ]
     },
     "execution_count": 17,
     "metadata": {},
     "output_type": "execute_result"
    }
   ],
   "source": [
    "even_odd = '홀수' if num % 2 == 1 else '짝수'\n",
    "num, even_odd"
   ]
  },
  {
   "cell_type": "code",
   "execution_count": 19,
   "metadata": {},
   "outputs": [
    {
     "data": {
      "text/plain": [
       "(8, '여름')"
      ]
     },
     "execution_count": 19,
     "metadata": {},
     "output_type": "execute_result"
    }
   ],
   "source": [
    "season = '봄' if 3 <= now.month <= 5 else \\\n",
    "            '여름' if 6 <= now.month <= 8 else \\\n",
    "                '가을' if 9 <= now.month <= 11 else '겨울'\n",
    "now.month, season"
   ]
  },
  {
   "cell_type": "markdown",
   "metadata": {},
   "source": [
    "- 중첩(Nested) if 문"
   ]
  },
  {
   "cell_type": "code",
   "execution_count": 23,
   "metadata": {},
   "outputs": [
    {
     "name": "stdout",
     "output_type": "stream",
     "text": [
      "홀수입니다.\n",
      "10보다 큰 수입니다.\n",
      "들여쓰기를 주의하세요.\n"
     ]
    }
   ],
   "source": [
    "n = 15\n",
    "if n % 2 == 1:\n",
    "    print('홀수입니다.')\n",
    "    if n > 10:\n",
    "        print('10보다 큰 수입니다.')\n",
    "print('들여쓰기를 주의하세요.')"
   ]
  },
  {
   "cell_type": "code",
   "execution_count": 24,
   "metadata": {},
   "outputs": [
    {
     "name": "stdout",
     "output_type": "stream",
     "text": [
      "홀수입니다.\n",
      "10보다 큰 수입니다.\n"
     ]
    }
   ],
   "source": [
    "if n % 2 == 1 and n > 10:\n",
    "    print('홀수입니다.')\n",
    "    print('10보다 큰 수입니다.')"
   ]
  },
  {
   "cell_type": "code",
   "execution_count": null,
   "metadata": {},
   "outputs": [],
   "source": []
  }
 ],
 "metadata": {
  "kernelspec": {
   "display_name": "base",
   "language": "python",
   "name": "python3"
  },
  "language_info": {
   "codemirror_mode": {
    "name": "ipython",
    "version": 3
   },
   "file_extension": ".py",
   "mimetype": "text/x-python",
   "name": "python",
   "nbconvert_exporter": "python",
   "pygments_lexer": "ipython3",
   "version": "3.11.4"
  },
  "orig_nbformat": 4
 },
 "nbformat": 4,
 "nbformat_minor": 2
}
