{
 "cells": [
  {
   "cell_type": "markdown",
   "metadata": {},
   "source": [
    "- datetime 모듈"
   ]
  },
  {
   "cell_type": "code",
   "execution_count": 2,
   "metadata": {},
   "outputs": [
    {
     "name": "stdout",
     "output_type": "stream",
     "text": [
      "2023-09-05 10:37:51\n"
     ]
    }
   ],
   "source": [
    "import datetime\n",
    "now = datetime.datetime.now()\n",
    "print(f'{now.year}-{now.month:02d}-{now.day:02d} {now.hour:02d}:{now.minute:02d}:{now.second:02d}')"
   ]
  },
  {
   "cell_type": "code",
   "execution_count": 4,
   "metadata": {},
   "outputs": [
    {
     "name": "stdout",
     "output_type": "stream",
     "text": [
      "2023-09-05 10:38:55\n"
     ]
    }
   ],
   "source": [
    "import datetime as dt \n",
    "now = dt.datetime.now()\n",
    "print(f'{now.year}-{now.month:02d}-{now.day:02d} {now.hour:02d}:{now.minute:02d}:{now.second:02d}')"
   ]
  },
  {
   "cell_type": "code",
   "execution_count": 5,
   "metadata": {},
   "outputs": [
    {
     "name": "stdout",
     "output_type": "stream",
     "text": [
      "2023-09-05 10:39:41\n"
     ]
    }
   ],
   "source": [
    "from datetime import datetime\n",
    "now = datetime.now()\n",
    "print(f'{now.year}-{now.month:02d}-{now.day:02d} {now.hour:02d}:{now.minute:02d}:{now.second:02d}')"
   ]
  },
  {
   "cell_type": "code",
   "execution_count": 6,
   "metadata": {},
   "outputs": [
    {
     "name": "stdout",
     "output_type": "stream",
     "text": [
      "2023-09-05 10:40:38\n"
     ]
    }
   ],
   "source": [
    "from datetime import datetime as ddt\n",
    "now = ddt.now()\n",
    "print(f'{now.year}-{now.month:02d}-{now.day:02d} {now.hour:02d}:{now.minute:02d}:{now.second:02d}')"
   ]
  },
  {
   "cell_type": "code",
   "execution_count": 7,
   "metadata": {},
   "outputs": [
    {
     "name": "stdout",
     "output_type": "stream",
     "text": [
      "2023-09-05 10:40:38\n"
     ]
    }
   ],
   "source": [
    "print(now.strftime('%Y-%m-%d %H:%M:%S'))"
   ]
  },
  {
   "cell_type": "code",
   "execution_count": 10,
   "metadata": {},
   "outputs": [
    {
     "data": {
      "text/plain": [
       "'화요일'"
      ]
     },
     "execution_count": 10,
     "metadata": {},
     "output_type": "execute_result"
    }
   ],
   "source": [
    "weeknames = '월 화 수 목 금 토 일'.split()\n",
    "weeknames[now.weekday()] + '요일'"
   ]
  },
  {
   "cell_type": "code",
   "execution_count": 12,
   "metadata": {},
   "outputs": [
    {
     "name": "stdout",
     "output_type": "stream",
     "text": [
      "2023-09-05(화) 10:40:38\n"
     ]
    }
   ],
   "source": [
    "print(now.strftime('%Y-%m-%d') + f'({weeknames[now.weekday()]}) ' + now.strftime('%H:%M:%S'))"
   ]
  },
  {
   "cell_type": "code",
   "execution_count": 13,
   "metadata": {},
   "outputs": [
    {
     "name": "stdout",
     "output_type": "stream",
     "text": [
      "2023-12-14(목) 10:40:38\n"
     ]
    }
   ],
   "source": [
    "# 시간 더하기\n",
    "after100 = now + dt.timedelta(days=100)     # 100일 후\n",
    "print(after100.strftime('%Y-%m-%d') + f'({weeknames[after100.weekday()]}) ' + after100.strftime('%H:%M:%S'))"
   ]
  },
  {
   "cell_type": "code",
   "execution_count": 14,
   "metadata": {},
   "outputs": [
    {
     "name": "stdout",
     "output_type": "stream",
     "text": [
      "2023-08-11(금) 00:40:38\n"
     ]
    }
   ],
   "source": [
    "before = now - dt.timedelta(weeks=3, days=4, hours=10)\n",
    "print(before.strftime('%Y-%m-%d') + f'({weeknames[before.weekday()]}) ' + before.strftime('%H:%M:%S'))"
   ]
  },
  {
   "cell_type": "code",
   "execution_count": 15,
   "metadata": {},
   "outputs": [
    {
     "name": "stdout",
     "output_type": "stream",
     "text": [
      "2023-11-16(목) 09:00:00\n"
     ]
    }
   ],
   "source": [
    "test_day = dt.datetime(2023, 11, 16, 9)\n",
    "print(test_day.strftime('%Y-%m-%d') + f'({weeknames[test_day.weekday()]}) ' + test_day.strftime('%H:%M:%S'))"
   ]
  },
  {
   "cell_type": "code",
   "execution_count": 16,
   "metadata": {},
   "outputs": [
    {
     "name": "stdout",
     "output_type": "stream",
     "text": [
      "2023-08-08(화) 09:00:00\n"
     ]
    }
   ],
   "source": [
    "before = test_day - dt.timedelta(100)\n",
    "print(before.strftime('%Y-%m-%d') + f'({weeknames[before.weekday()]}) ' + before.strftime('%H:%M:%S'))"
   ]
  },
  {
   "cell_type": "markdown",
   "metadata": {},
   "source": [
    "- time 모듈"
   ]
  },
  {
   "cell_type": "code",
   "execution_count": 17,
   "metadata": {},
   "outputs": [
    {
     "name": "stdout",
     "output_type": "stream",
     "text": [
      "지금부터 5초간 정지합니다.\n",
      "5초가 지났습니다.\n"
     ]
    }
   ],
   "source": [
    "import time\n",
    "\n",
    "print('지금부터 5초간 정지합니다.')\n",
    "time.sleep(5)\n",
    "print('5초가 지났습니다.')"
   ]
  },
  {
   "cell_type": "markdown",
   "metadata": {},
   "source": [
    "- requests 모듈"
   ]
  },
  {
   "cell_type": "code",
   "execution_count": 22,
   "metadata": {},
   "outputs": [
    {
     "name": "stdout",
     "output_type": "stream",
     "text": [
      "<!DOCTYPE html>\n",
      "<html lang=\"ko\">\n",
      "<head>\n",
      "<!--[if lte IE 8]>\n",
      "<script>\n",
      "  location.replace('/support/explorer_upgrade.html');\n",
      "</script>\n",
      "<![endif]-->\n",
      "<meta charset=\"utf-8\"/>\n",
      "<title>한빛아카데미</title>\n",
      "<link rel=\"shortcut icon\" href=\"https://www.hanbit.co.kr/images/common/hanbit.ico\"> \n",
      "<meta http-equiv=\"X-UA-Compatible\" content=\"IE=Edge\" />\n",
      "<meta property=\"og:type\" content=\"website\"/>\n",
      "<meta property=\"og:title\" content=\"한빛아카데미\"/>\n",
      "<meta property=\"og:description\" content=\"이공계 분야 종합 교재 출판사로, 독자의 신뢰를 최우선 원칙으로 삼고 가르치는 교수님들과 배우는 학생들에게 든든한 조력자가 되도록 노력하고 있습니다.\"/>\n",
      "<meta property=\"og:image\" content=\"https://www.hanbit.co.kr/images/hanbitpubnet_logo.jpg\" />\n",
      "<meta property=\"og:url\" content=\"https://www.hanbit.co.kr/academy/\"/>\n",
      "<link rel=\"canonical\" href=\"https://www.hanbit.co.kr/academy/\" />\n",
      "<meta name=\"keywords\" content=\"한빛아카데미,책,전자책,ebook,대학교재,교재출판사,강의교안,교수회원,자격증,정보교과서\" />\n",
      "<meta name=\"description\" content=\"이공계 분야 종합 교재 출판사로, 독자의 신뢰를 최우선 원칙으로 삼고 가르치는 교수님들과 배우는 학생들에게 든든한 조력자가 되도록 노력하고 있습니다.\n"
     ]
    }
   ],
   "source": [
    "import requests\n",
    "req = requests.get('https://www.hanbit.co.kr/academy/')\n",
    "print(req.text[:1000])"
   ]
  },
  {
   "cell_type": "code",
   "execution_count": null,
   "metadata": {},
   "outputs": [],
   "source": []
  }
 ],
 "metadata": {
  "kernelspec": {
   "display_name": "base",
   "language": "python",
   "name": "python3"
  },
  "language_info": {
   "codemirror_mode": {
    "name": "ipython",
    "version": 3
   },
   "file_extension": ".py",
   "mimetype": "text/x-python",
   "name": "python",
   "nbconvert_exporter": "python",
   "pygments_lexer": "ipython3",
   "version": "3.11.4"
  },
  "orig_nbformat": 4
 },
 "nbformat": 4,
 "nbformat_minor": 2
}
