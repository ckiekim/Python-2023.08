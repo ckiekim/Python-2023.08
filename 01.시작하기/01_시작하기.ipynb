{
  "nbformat": 4,
  "nbformat_minor": 0,
  "metadata": {
    "colab": {
      "provenance": []
    },
    "kernelspec": {
      "name": "python3",
      "display_name": "Python 3"
    },
    "language_info": {
      "name": "python"
    }
  },
  "cells": [
    {
      "cell_type": "markdown",
      "source": [
        "# 파이썬 시작하기"
      ],
      "metadata": {
        "id": "NthZv8AKjQhu"
      }
    },
    {
      "cell_type": "code",
      "source": [
        "# 2023년 8월 현재 Colab에 설치되어 있는 파이썬 버전 확인\n",
        "!python --version"
      ],
      "metadata": {
        "colab": {
          "base_uri": "https://localhost:8080/"
        },
        "id": "4pejlpp39RvI",
        "outputId": "fb738dd9-8350-4d01-c48d-491dec43d594"
      },
      "execution_count": 9,
      "outputs": [
        {
          "output_type": "stream",
          "name": "stdout",
          "text": [
            "Python 3.10.12\n"
          ]
        }
      ]
    },
    {
      "cell_type": "markdown",
      "source": [
        "### 1. 세미 콜론(;)"
      ],
      "metadata": {
        "id": "7RRpOVSPjyl9"
      }
    },
    {
      "cell_type": "code",
      "execution_count": null,
      "metadata": {
        "colab": {
          "base_uri": "https://localhost:8080/"
        },
        "id": "ljyoZa5BiUpf",
        "outputId": "ba0e61b0-91e3-4f40-9df0-9b3fb8fd5d6e"
      },
      "outputs": [
        {
          "output_type": "stream",
          "name": "stdout",
          "text": [
            "Hello\n"
          ]
        }
      ],
      "source": [
        "# 문장 끝에 세미콜론(;)을 붙이지 않는다.\n",
        "print('Hello')"
      ]
    },
    {
      "cell_type": "code",
      "source": [
        "# 한 줄에 여러 문장을 사용할 경우에는 세미콜론을 사용함\n",
        "print('Hello'); print('World')"
      ],
      "metadata": {
        "colab": {
          "base_uri": "https://localhost:8080/"
        },
        "id": "DbCdWGMNkFY-",
        "outputId": "ab991f26-0e4d-4597-b88b-219e820f5a69"
      },
      "execution_count": null,
      "outputs": [
        {
          "output_type": "stream",
          "name": "stdout",
          "text": [
            "Hello\n",
            "World\n"
          ]
        }
      ]
    },
    {
      "cell_type": "markdown",
      "source": [
        "### 2. 주석(Comment)"
      ],
      "metadata": {
        "id": "-Ws50GYpkzPt"
      }
    },
    {
      "cell_type": "code",
      "source": [
        "# 한 줄짜리 주석\n",
        "print('Hello')      # 문장 뒤에 사용하는 주석"
      ],
      "metadata": {
        "colab": {
          "base_uri": "https://localhost:8080/"
        },
        "id": "3TBUAafMklPJ",
        "outputId": "799de1b7-8a3c-43cd-bde7-e0c0e66aebd2"
      },
      "execution_count": null,
      "outputs": [
        {
          "output_type": "stream",
          "name": "stdout",
          "text": [
            "Hello\n"
          ]
        }
      ]
    },
    {
      "cell_type": "code",
      "source": [
        "# 여러줄의 주석\n",
        "# 여러줄의 주석\n",
        "'''\n",
        "원래는 멀티 라인 문자열로 사용됨\n",
        "주석으로도 사용됨\n",
        "'''"
      ],
      "metadata": {
        "colab": {
          "base_uri": "https://localhost:8080/",
          "height": 36
        },
        "id": "Jmi1PzqelFaV",
        "outputId": "fcb097fb-2edd-4300-e4d0-f0137695665c"
      },
      "execution_count": null,
      "outputs": [
        {
          "output_type": "execute_result",
          "data": {
            "text/plain": [
              "'\\n원래는 멀티 라인 문자열로 사용됨\\n주석으로도 사용됨\\n'"
            ],
            "application/vnd.google.colaboratory.intrinsic+json": {
              "type": "string"
            }
          },
          "metadata": {},
          "execution_count": 4
        }
      ]
    },
    {
      "cell_type": "code",
      "source": [
        "# \"\"\" \"\"\" 도 ''' ''' 과 동일하게 사용됨"
      ],
      "metadata": {
        "id": "njp1yIzYlkL4"
      },
      "execution_count": null,
      "outputs": []
    },
    {
      "cell_type": "markdown",
      "source": [
        "### 3. 들여쓰기(Indentation)"
      ],
      "metadata": {
        "id": "MV95x-aumNyY"
      }
    },
    {
      "cell_type": "code",
      "source": [
        "num = 3\n",
        "if num % 2 == 1:\n",
        "    print('홀수')\n"
      ],
      "metadata": {
        "colab": {
          "base_uri": "https://localhost:8080/"
        },
        "id": "3l78AbEOluId",
        "outputId": "321aff7d-9d84-4777-bb92-b4f746254926"
      },
      "execution_count": null,
      "outputs": [
        {
          "output_type": "stream",
          "name": "stdout",
          "text": [
            "홀수\n"
          ]
        }
      ]
    },
    {
      "cell_type": "code",
      "source": [
        "sum = 0\n",
        "for i in range(1, 11):\n",
        "    sum += i\n",
        "    print('for loop이 돌 때마다 찍힘:', sum)\n",
        "print('for loop이 끝난 후 찍힘:', sum)"
      ],
      "metadata": {
        "colab": {
          "base_uri": "https://localhost:8080/"
        },
        "id": "e_hkF-zbnJHx",
        "outputId": "20745667-0a03-4627-d4f2-07b028337094"
      },
      "execution_count": null,
      "outputs": [
        {
          "output_type": "stream",
          "name": "stdout",
          "text": [
            "for loop이 돌 때마다 찍힘: 1\n",
            "for loop이 돌 때마다 찍힘: 3\n",
            "for loop이 돌 때마다 찍힘: 6\n",
            "for loop이 돌 때마다 찍힘: 10\n",
            "for loop이 돌 때마다 찍힘: 15\n",
            "for loop이 돌 때마다 찍힘: 21\n",
            "for loop이 돌 때마다 찍힘: 28\n",
            "for loop이 돌 때마다 찍힘: 36\n",
            "for loop이 돌 때마다 찍힘: 45\n",
            "for loop이 돌 때마다 찍힘: 55\n",
            "for loop이 끝난 후 찍힘: 55\n"
          ]
        }
      ]
    },
    {
      "cell_type": "markdown",
      "source": [
        "### 4. 코드 블록"
      ],
      "metadata": {
        "id": "8O3clDklr-XP"
      }
    },
    {
      "cell_type": "code",
      "source": [
        "# 콜론(:)과 이후 들여쓰기로 코드 블록이 결정됨\n",
        "if sum % 2 == 1:\n",
        "    print(sum)\n",
        "    print('홀수입니다.')"
      ],
      "metadata": {
        "colab": {
          "base_uri": "https://localhost:8080/"
        },
        "id": "zVvC4dDgrERH",
        "outputId": "6da0a09d-59b0-4b29-b9a8-1667112e54ee"
      },
      "execution_count": null,
      "outputs": [
        {
          "output_type": "stream",
          "name": "stdout",
          "text": [
            "55\n",
            "홀수입니다.\n"
          ]
        }
      ]
    },
    {
      "cell_type": "code",
      "source": [],
      "metadata": {
        "id": "ZBo0MdaGsjW4"
      },
      "execution_count": null,
      "outputs": []
    }
  ]
}