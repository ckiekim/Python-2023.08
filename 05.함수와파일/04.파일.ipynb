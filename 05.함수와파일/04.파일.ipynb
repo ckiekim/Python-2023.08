{
 "cells": [
  {
   "cell_type": "markdown",
   "metadata": {},
   "source": [
    "### 5.4 파일(File)"
   ]
  },
  {
   "cell_type": "markdown",
   "metadata": {},
   "source": [
    "- 파일에 텍스트 쓰기"
   ]
  },
  {
   "cell_type": "code",
   "execution_count": 1,
   "metadata": {},
   "outputs": [],
   "source": [
    "file = open('data/basic.txt', 'w')      # data/basic.txt를 쓰기 모드로 open\n",
    "file.write('Hello World!!!')\n",
    "file.close()"
   ]
  },
  {
   "cell_type": "markdown",
   "metadata": {},
   "source": [
    "- 파이썬 스타일: with 구문"
   ]
  },
  {
   "cell_type": "code",
   "execution_count": 3,
   "metadata": {},
   "outputs": [],
   "source": [
    "# with 구문을 벗어나면 파일이 자동적으로 close 됨\n",
    "# 'w' 모드는 기존 데이터를 overwrite\n",
    "# write 할 경우 new line을 입력하지 않았으므로 한 줄의 데이터가 됨\n",
    "with open('data/basic.txt', 'w') as file:\n",
    "    file.write('This is Python Style!!!')\n",
    "    file.write('This is Python Style!!!')"
   ]
  },
  {
   "cell_type": "code",
   "execution_count": 4,
   "metadata": {},
   "outputs": [],
   "source": [
    "with open('data/basic.txt', 'w') as file:\n",
    "    file.write('Hello World!!!\\n')\n",
    "    file.write('This is Python Style!!!')"
   ]
  },
  {
   "cell_type": "markdown",
   "metadata": {},
   "source": [
    "- 텍스트 읽기"
   ]
  },
  {
   "cell_type": "code",
   "execution_count": 5,
   "metadata": {},
   "outputs": [
    {
     "name": "stdout",
     "output_type": "stream",
     "text": [
      "Hello World!!!\n",
      "This is Python Style!!!\n"
     ]
    }
   ],
   "source": [
    "with open('data/basic.txt', 'r') as file:\n",
    "    content = file.read()                   # 파일 안에 있는 텍스트를 모두 읽음\n",
    "print(content)"
   ]
  },
  {
   "cell_type": "code",
   "execution_count": 6,
   "metadata": {},
   "outputs": [
    {
     "name": "stdout",
     "output_type": "stream",
     "text": [
      "Hello World!!!\n",
      "This \n"
     ]
    }
   ],
   "source": [
    "with open('data/basic.txt') as file:    # 읽기 모드가 디폴트이므로 'r' 생략 가능\n",
    "    content = file.read(20)             # 파일 안에 있는 텍스트 20자를 읽음\n",
    "print(content)"
   ]
  },
  {
   "cell_type": "markdown",
   "metadata": {},
   "source": [
    "- 한글 텍스트 쓰기/읽기"
   ]
  },
  {
   "cell_type": "code",
   "execution_count": 8,
   "metadata": {},
   "outputs": [],
   "source": [
    "# encoding을 지정하지 않으면 'utf-8'로 인코딩\n",
    "with open('data/한글.txt', 'w') as file:\n",
    "    file.write('안녕하세요?\\n')\n",
    "    file.write('파이썬 세계에 오신 것을 환영합니다.')"
   ]
  },
  {
   "cell_type": "code",
   "execution_count": 9,
   "metadata": {},
   "outputs": [],
   "source": [
    "# EUC-KR로 인코딩\n",
    "with open('data/한글.txt', 'w', encoding='CP949') as file:\n",
    "    file.write('안녕하세요?\\n')\n",
    "    file.write('파이썬 세계에 오신 것을 환영합니다.')"
   ]
  },
  {
   "cell_type": "code",
   "execution_count": 10,
   "metadata": {},
   "outputs": [
    {
     "name": "stdout",
     "output_type": "stream",
     "text": [
      "안녕하세요?\n",
      "파이썬 세계에 오신 것을 환영합니다.\n"
     ]
    }
   ],
   "source": [
    "# EUC-KR로 읽기\n",
    "with open('data/한글.txt', encoding='cp949') as file:\n",
    "    content = file.read()\n",
    "print(content)"
   ]
  },
  {
   "cell_type": "code",
   "execution_count": 11,
   "metadata": {},
   "outputs": [
    {
     "name": "stdout",
     "output_type": "stream",
     "text": [
      "안녕하세요?\n",
      "파이썬\n"
     ]
    }
   ],
   "source": [
    "# EUC-KR로 10글자 읽기\n",
    "with open('data/한글.txt', encoding='EUC-KR') as file:\n",
    "    content = file.read(10)\n",
    "print(content)"
   ]
  },
  {
   "cell_type": "markdown",
   "metadata": {},
   "source": [
    "- 여러줄 쓰기/읽기"
   ]
  },
  {
   "cell_type": "code",
   "execution_count": 13,
   "metadata": {},
   "outputs": [],
   "source": [
    "fruits = ['apple', 'banana', 'cherry']\n",
    "with open('data/fruits.txt', 'w') as file:\n",
    "    for fruit in fruits:\n",
    "        file.write(fruit + '\\n')"
   ]
  },
  {
   "cell_type": "code",
   "execution_count": 14,
   "metadata": {},
   "outputs": [],
   "source": [
    "with open('data/fruits.txt', 'w') as file:\n",
    "    file.writelines(fruits)                 # 리스트를 쓰게 해줌"
   ]
  },
  {
   "cell_type": "code",
   "execution_count": 15,
   "metadata": {},
   "outputs": [],
   "source": [
    "with open('data/fruits.txt', 'w') as file:\n",
    "    file.writelines(map(lambda x: x + '\\n', fruits))"
   ]
  },
  {
   "cell_type": "code",
   "execution_count": 16,
   "metadata": {},
   "outputs": [
    {
     "name": "stdout",
     "output_type": "stream",
     "text": [
      "apple\n",
      "\n"
     ]
    }
   ],
   "source": [
    "with open('data/fruits.txt') as file:\n",
    "    line = file.readline()              # 한 줄 읽기, 문자열\n",
    "    print(line)"
   ]
  },
  {
   "cell_type": "code",
   "execution_count": 17,
   "metadata": {},
   "outputs": [
    {
     "name": "stdout",
     "output_type": "stream",
     "text": [
      "['apple\\n', 'banana\\n', 'cherry\\n']\n"
     ]
    }
   ],
   "source": [
    "with open('data/fruits.txt') as file:\n",
    "    lines = file.readlines()             # 모든 줄 읽기, 리스트\n",
    "    print(lines)"
   ]
  },
  {
   "cell_type": "code",
   "execution_count": 20,
   "metadata": {},
   "outputs": [
    {
     "name": "stdout",
     "output_type": "stream",
     "text": [
      "apple\n",
      "banana\n",
      "cherry\n"
     ]
    }
   ],
   "source": [
    "# 줄 단위로 작업\n",
    "for line in lines:\n",
    "    print(line.strip())"
   ]
  },
  {
   "cell_type": "code",
   "execution_count": 24,
   "metadata": {},
   "outputs": [
    {
     "name": "stdout",
     "output_type": "stream",
     "text": [
      "apple\n",
      "banana\n",
      "cherry\n",
      "\n"
     ]
    }
   ],
   "source": [
    "# 데이터가 몇줄 있는지 모르는 상황에서 아래와 같은 코드는 사용하지 말아야 함\n",
    "with open('data/fruits.txt') as file:\n",
    "    line = file.readline()              # 한 줄 읽기, 문자열\n",
    "    print(line.strip())\n",
    "    line = file.readline()              # 한 줄 읽기, 문자열\n",
    "    print(line.strip())\n",
    "    line = file.readline()              # 한 줄 읽기, 문자열\n",
    "    print(line.strip())\n",
    "    line = file.readline()              # 한 줄 읽기, 문자열\n",
    "    print(line.strip())"
   ]
  },
  {
   "cell_type": "code",
   "execution_count": 25,
   "metadata": {},
   "outputs": [
    {
     "name": "stdout",
     "output_type": "stream",
     "text": [
      "apple\n",
      "banana\n",
      "cherry\n"
     ]
    }
   ],
   "source": [
    "with open('data/fruits.txt') as file:\n",
    "    while True:\n",
    "        line = file.readline()\n",
    "        if not line:                # '' 일때 break, if line == '' 과 같이 써도 무방\n",
    "            break\n",
    "        print(line.strip())"
   ]
  },
  {
   "cell_type": "markdown",
   "metadata": {},
   "source": [
    "- append mode"
   ]
  },
  {
   "cell_type": "code",
   "execution_count": 26,
   "metadata": {},
   "outputs": [],
   "source": [
    "with open('data/fruits.txt', 'a') as file:\n",
    "    file.write('strawbery\\n')\n",
    "    file.write('pineapple\\n')"
   ]
  },
  {
   "cell_type": "markdown",
   "metadata": {},
   "source": [
    "- 패스워드 처리\n",
    "    - github를 사용하는 경우 패스워드가 노출되면 안됨\n",
    "    - 패스워드를 파일에 보관하고, 파일을 .gitignore 파일에 등록\n",
    "    - 패스워드 파일은 개인 메일에 보관"
   ]
  },
  {
   "cell_type": "code",
   "execution_count": 27,
   "metadata": {},
   "outputs": [],
   "source": [
    "with open('data/password.txt') as file:\n",
    "    password = file.read()\n",
    "# 이 이후에 password를 출력하지 않고 사용하면 됨"
   ]
  },
  {
   "cell_type": "markdown",
   "metadata": {},
   "source": [
    "- 파이썬 객체 저장/로드"
   ]
  },
  {
   "cell_type": "code",
   "execution_count": 28,
   "metadata": {},
   "outputs": [],
   "source": [
    "james = {'name': 'James', 'age': 27, 'addr': '서울시 영등포구 여의도동'}"
   ]
  },
  {
   "cell_type": "code",
   "execution_count": 29,
   "metadata": {},
   "outputs": [
    {
     "data": {
      "text/plain": [
       "['data/person.jl']"
      ]
     },
     "execution_count": 29,
     "metadata": {},
     "output_type": "execute_result"
    }
   ],
   "source": [
    "# 파일에 저장\n",
    "import joblib\n",
    "joblib.dump(james, 'data/person.jl')"
   ]
  },
  {
   "cell_type": "code",
   "execution_count": 30,
   "metadata": {},
   "outputs": [
    {
     "data": {
      "text/plain": [
       "{'name': 'James', 'age': 27, 'addr': '서울시 영등포구 여의도동'}"
      ]
     },
     "execution_count": 30,
     "metadata": {},
     "output_type": "execute_result"
    }
   ],
   "source": [
    "# 파일에서 읽기\n",
    "person = joblib.load('data/person.jl')\n",
    "person"
   ]
  },
  {
   "cell_type": "code",
   "execution_count": null,
   "metadata": {},
   "outputs": [],
   "source": []
  }
 ],
 "metadata": {
  "kernelspec": {
   "display_name": "base",
   "language": "python",
   "name": "python3"
  },
  "language_info": {
   "codemirror_mode": {
    "name": "ipython",
    "version": 3
   },
   "file_extension": ".py",
   "mimetype": "text/x-python",
   "name": "python",
   "nbconvert_exporter": "python",
   "pygments_lexer": "ipython3",
   "version": "3.11.4"
  },
  "orig_nbformat": 4
 },
 "nbformat": 4,
 "nbformat_minor": 2
}
