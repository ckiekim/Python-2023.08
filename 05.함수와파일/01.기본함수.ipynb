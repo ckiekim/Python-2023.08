{
 "cells": [
  {
   "cell_type": "markdown",
   "metadata": {},
   "source": [
    "## 5. 함수\n",
    "### 5.1 기본 함수"
   ]
  },
  {
   "cell_type": "code",
   "execution_count": 1,
   "metadata": {},
   "outputs": [],
   "source": [
    "# 함수 정의, 호출하기 전에 반드시 정의해주어야 함\n",
    "def print_3_times():\n",
    "    for _ in range(3):\n",
    "        print('안녕하세요?')"
   ]
  },
  {
   "cell_type": "code",
   "execution_count": 2,
   "metadata": {},
   "outputs": [
    {
     "name": "stdout",
     "output_type": "stream",
     "text": [
      "안녕하세요?\n",
      "안녕하세요?\n",
      "안녕하세요?\n"
     ]
    }
   ],
   "source": [
    "# 함수 호출\n",
    "print_3_times()"
   ]
  },
  {
   "cell_type": "markdown",
   "metadata": {},
   "source": [
    "- 매개변수(parameter, argument)"
   ]
  },
  {
   "cell_type": "code",
   "execution_count": 3,
   "metadata": {},
   "outputs": [
    {
     "name": "stdout",
     "output_type": "stream",
     "text": [
      "안녕하세요?\n",
      "안녕하세요?\n",
      "안녕하세요?\n"
     ]
    }
   ],
   "source": [
    "def print_n_times(msg, n):\n",
    "    for _ in range(n):\n",
    "        print(msg)\n",
    "print_n_times('안녕하세요?', 3)"
   ]
  },
  {
   "cell_type": "code",
   "execution_count": 4,
   "metadata": {},
   "outputs": [
    {
     "ename": "TypeError",
     "evalue": "print_n_times() missing 1 required positional argument: 'n'",
     "output_type": "error",
     "traceback": [
      "\u001b[1;31m---------------------------------------------------------------------------\u001b[0m",
      "\u001b[1;31mTypeError\u001b[0m                                 Traceback (most recent call last)",
      "Cell \u001b[1;32mIn[4], line 1\u001b[0m\n\u001b[1;32m----> 1\u001b[0m print_n_times(\u001b[39m'\u001b[39m\u001b[39m안녕하세요?\u001b[39m\u001b[39m'\u001b[39m)\n",
      "\u001b[1;31mTypeError\u001b[0m: print_n_times() missing 1 required positional argument: 'n'"
     ]
    }
   ],
   "source": [
    "print_n_times('안녕하세요?')"
   ]
  },
  {
   "cell_type": "code",
   "execution_count": 5,
   "metadata": {},
   "outputs": [
    {
     "ename": "TypeError",
     "evalue": "print_n_times() takes 2 positional arguments but 3 were given",
     "output_type": "error",
     "traceback": [
      "\u001b[1;31m---------------------------------------------------------------------------\u001b[0m",
      "\u001b[1;31mTypeError\u001b[0m                                 Traceback (most recent call last)",
      "Cell \u001b[1;32mIn[5], line 1\u001b[0m\n\u001b[1;32m----> 1\u001b[0m print_n_times(\u001b[39m'\u001b[39m\u001b[39m안녕하세요?\u001b[39m\u001b[39m'\u001b[39m, \u001b[39m3\u001b[39m, \u001b[39m3\u001b[39m)\n",
      "\u001b[1;31mTypeError\u001b[0m: print_n_times() takes 2 positional arguments but 3 were given"
     ]
    }
   ],
   "source": [
    "print_n_times('안녕하세요?', 3, 3)"
   ]
  },
  {
   "cell_type": "markdown",
   "metadata": {},
   "source": [
    "- 매개변수 기본값 정의"
   ]
  },
  {
   "cell_type": "code",
   "execution_count": 6,
   "metadata": {},
   "outputs": [
    {
     "name": "stdout",
     "output_type": "stream",
     "text": [
      "안녕하세요?\n",
      "안녕하세요?\n",
      "안녕하세요?\n"
     ]
    }
   ],
   "source": [
    "def print_n_times2(msg, n=3):\n",
    "    for _ in range(n):\n",
    "        print(msg)\n",
    "print_n_times2('안녕하세요?')"
   ]
  },
  {
   "cell_type": "markdown",
   "metadata": {},
   "source": [
    "- 가변 매개변수"
   ]
  },
  {
   "cell_type": "code",
   "execution_count": 7,
   "metadata": {},
   "outputs": [],
   "source": [
    "def print_n_times3(n, *msgs):\n",
    "    for _ in range(n):\n",
    "        for msg in msgs:\n",
    "            print(msg, end=' ')\n",
    "        print()"
   ]
  },
  {
   "cell_type": "code",
   "execution_count": 8,
   "metadata": {},
   "outputs": [
    {
     "name": "stdout",
     "output_type": "stream",
     "text": [
      "Hello World !!! \n",
      "Hello World !!! \n",
      "Hello World !!! \n"
     ]
    }
   ],
   "source": [
    "print_n_times3(3, 'Hello', 'World', '!!!')"
   ]
  },
  {
   "cell_type": "markdown",
   "metadata": {},
   "source": [
    "- 가변 매개변수 + 매개변수 기본값"
   ]
  },
  {
   "cell_type": "code",
   "execution_count": 9,
   "metadata": {},
   "outputs": [
    {
     "name": "stdout",
     "output_type": "stream",
     "text": [
      "Hello World !!! \n",
      "Hello World !!! \n",
      "Hello World !!! \n"
     ]
    }
   ],
   "source": [
    "def print_n_times4(*msgs, n=3):\n",
    "    for _ in range(n):\n",
    "        for msg in msgs:\n",
    "            print(msg, end=' ')\n",
    "        print()\n",
    "print_n_times4('Hello', 'World', '!!!')"
   ]
  },
  {
   "cell_type": "code",
   "execution_count": 10,
   "metadata": {},
   "outputs": [
    {
     "name": "stdout",
     "output_type": "stream",
     "text": [
      "Hello World !!! 2 \n",
      "Hello World !!! 2 \n",
      "Hello World !!! 2 \n"
     ]
    }
   ],
   "source": [
    "print_n_times4('Hello', 'World', '!!!', 2)"
   ]
  },
  {
   "cell_type": "markdown",
   "metadata": {},
   "source": [
    "- 키워드 매개변수"
   ]
  },
  {
   "cell_type": "code",
   "execution_count": 11,
   "metadata": {},
   "outputs": [
    {
     "name": "stdout",
     "output_type": "stream",
     "text": [
      "Hello World !!! \n",
      "Hello World !!! \n"
     ]
    }
   ],
   "source": [
    "print_n_times4('Hello', 'World', '!!!', n=2)"
   ]
  },
  {
   "cell_type": "code",
   "execution_count": 12,
   "metadata": {},
   "outputs": [],
   "source": [
    "def test(a, b=10, c=100):\n",
    "    print(a + b + c)"
   ]
  },
  {
   "cell_type": "code",
   "execution_count": 13,
   "metadata": {},
   "outputs": [
    {
     "name": "stdout",
     "output_type": "stream",
     "text": [
      "60\n"
     ]
    }
   ],
   "source": [
    "test(10, 20, 30)    # a가 가변 매개변수가 아니므로, 20, 30 값이 b, c로 전달됨"
   ]
  },
  {
   "cell_type": "code",
   "execution_count": 14,
   "metadata": {},
   "outputs": [
    {
     "name": "stdout",
     "output_type": "stream",
     "text": [
      "270\n"
     ]
    }
   ],
   "source": [
    "test(c=200, b=50, a=20)     # 위치 매개변수도 키워드 매개변수같이 사용할 수 있음\n",
    "                            # 키워드 매개변수는 순서는 실행하는데 관계 없음"
   ]
  },
  {
   "cell_type": "code",
   "execution_count": 15,
   "metadata": {},
   "outputs": [
    {
     "name": "stdout",
     "output_type": "stream",
     "text": [
      "50\n"
     ]
    }
   ],
   "source": [
    "test(20, c=20)      # 키워드 매개변수중 일부만 전달할 수 있음"
   ]
  },
  {
   "cell_type": "markdown",
   "metadata": {},
   "source": [
    "- 매개변수 순서\n",
    "    1. 위치 매개변수: pos\n",
    "    2. 가변 위치 매개변수: *pos\n",
    "    3. 키워드 매개변수: key=value\n",
    "    4. 가변 키워드 매개변수: **kwargs"
   ]
  },
  {
   "cell_type": "code",
   "execution_count": 16,
   "metadata": {},
   "outputs": [],
   "source": [
    "def kwargs(**kwargs):\n",
    "    for key, value in kwargs.items():\n",
    "        print(key, ':', value)"
   ]
  },
  {
   "cell_type": "code",
   "execution_count": 17,
   "metadata": {},
   "outputs": [
    {
     "name": "stdout",
     "output_type": "stream",
     "text": [
      "a : 10\n",
      "b : 20\n",
      "c : 30\n"
     ]
    }
   ],
   "source": [
    "kwargs(a=10, b=20, c=30)"
   ]
  },
  {
   "cell_type": "markdown",
   "metadata": {},
   "source": [
    "- 반환(return)"
   ]
  },
  {
   "cell_type": "code",
   "execution_count": 18,
   "metadata": {},
   "outputs": [],
   "source": [
    "def return_test():\n",
    "    print('Hello')\n",
    "    return              # 호출된 곳으로 반환\n",
    "    print('World')      # 절대 실행될 수 없는 코드(unreachable code)"
   ]
  },
  {
   "cell_type": "code",
   "execution_count": 19,
   "metadata": {},
   "outputs": [
    {
     "name": "stdout",
     "output_type": "stream",
     "text": [
      "Hello\n"
     ]
    }
   ],
   "source": [
    "return_test()"
   ]
  },
  {
   "cell_type": "code",
   "execution_count": 20,
   "metadata": {},
   "outputs": [],
   "source": [
    "def return_test2():\n",
    "    return 'Hello World'"
   ]
  },
  {
   "cell_type": "code",
   "execution_count": 21,
   "metadata": {},
   "outputs": [
    {
     "name": "stdout",
     "output_type": "stream",
     "text": [
      "Hello World\n"
     ]
    }
   ],
   "source": [
    "val = return_test2()\n",
    "print(val)"
   ]
  },
  {
   "cell_type": "code",
   "execution_count": 22,
   "metadata": {},
   "outputs": [
    {
     "name": "stdout",
     "output_type": "stream",
     "text": [
      "Hello\n",
      "None\n"
     ]
    }
   ],
   "source": [
    "val = return_test()\n",
    "print(val)              # 반환되는 값이 없으므로 None"
   ]
  },
  {
   "cell_type": "markdown",
   "metadata": {},
   "source": [
    "- 여러개의 값 반환"
   ]
  },
  {
   "cell_type": "code",
   "execution_count": 23,
   "metadata": {},
   "outputs": [
    {
     "name": "stdout",
     "output_type": "stream",
     "text": [
      "10 20 30\n"
     ]
    }
   ],
   "source": [
    "def return_multi():\n",
    "    return 10, 20, 30\n",
    "\n",
    "a, b, c = return_multi()\n",
    "print(a, b, c)"
   ]
  },
  {
   "cell_type": "markdown",
   "metadata": {},
   "source": [
    "# start와 end를 매개변수로 받아서 홀수의 합과 짝수의 합을 반환하는 함수\n",
    "# odd_even(start, end)"
   ]
  },
  {
   "cell_type": "code",
   "execution_count": 25,
   "metadata": {},
   "outputs": [
    {
     "data": {
      "text/plain": [
       "5050"
      ]
     },
     "execution_count": 25,
     "metadata": {},
     "output_type": "execute_result"
    }
   ],
   "source": [
    "# 1에서 100까지 합\n",
    "sum100 = 0\n",
    "for i in range(1, 101):\n",
    "    sum100 += i\n",
    "\n",
    "sum([i for i in range(1, 101)])"
   ]
  },
  {
   "cell_type": "code",
   "execution_count": 26,
   "metadata": {},
   "outputs": [],
   "source": [
    "def odd_even(start, end):\n",
    "    odd = [i for i in range(start, end+1) if i % 2 == 1]\n",
    "    even = [i for i in range(start, end+1) if i % 2 == 0]\n",
    "    return sum(odd), sum(even)"
   ]
  },
  {
   "cell_type": "code",
   "execution_count": 27,
   "metadata": {},
   "outputs": [
    {
     "name": "stdout",
     "output_type": "stream",
     "text": [
      "2500 2550\n"
     ]
    }
   ],
   "source": [
    "odd_sum, even_sum = odd_even(1, 100)\n",
    "print(odd_sum, even_sum)"
   ]
  },
  {
   "cell_type": "code",
   "execution_count": 28,
   "metadata": {},
   "outputs": [
    {
     "name": "stdout",
     "output_type": "stream",
     "text": [
      "(2500, 2550)\n"
     ]
    }
   ],
   "source": [
    "def odd_even(start, end):\n",
    "    return sum([i for i in range(start, end+1) if i % 2 == 1]), \\\n",
    "            sum([i for i in range(start, end+1) if i % 2 == 0])\n",
    "\n",
    "print(odd_even(1, 100))"
   ]
  },
  {
   "cell_type": "code",
   "execution_count": null,
   "metadata": {},
   "outputs": [],
   "source": []
  }
 ],
 "metadata": {
  "kernelspec": {
   "display_name": "base",
   "language": "python",
   "name": "python3"
  },
  "language_info": {
   "codemirror_mode": {
    "name": "ipython",
    "version": 3
   },
   "file_extension": ".py",
   "mimetype": "text/x-python",
   "name": "python",
   "nbconvert_exporter": "python",
   "pygments_lexer": "ipython3",
   "version": "3.11.4"
  },
  "orig_nbformat": 4
 },
 "nbformat": 4,
 "nbformat_minor": 2
}
