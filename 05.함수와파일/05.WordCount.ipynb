{
 "cells": [
  {
   "cell_type": "markdown",
   "metadata": {},
   "source": [
    "### 파일의 단어 갯수 세기\n",
    "- 총 단어수\n",
    "- 고유 단어수\n",
    "- 가장 많이 사용된 단어 10개"
   ]
  },
  {
   "cell_type": "markdown",
   "metadata": {},
   "source": [
    "##### Step 1. 파일에서 데이터 읽기"
   ]
  },
  {
   "cell_type": "code",
   "execution_count": 1,
   "metadata": {},
   "outputs": [],
   "source": [
    "with open('data/lorem.txt') as file:\n",
    "    contents = file.read()"
   ]
  },
  {
   "cell_type": "markdown",
   "metadata": {},
   "source": [
    "##### Step 2. 구둣점 제거하고 소문자로 변경"
   ]
  },
  {
   "cell_type": "code",
   "execution_count": 2,
   "metadata": {},
   "outputs": [
    {
     "data": {
      "text/plain": [
       "'!\"#$%&\\'()*+,-./:;<=>?@[\\\\]^_`{|}~'"
      ]
     },
     "execution_count": 2,
     "metadata": {},
     "output_type": "execute_result"
    }
   ],
   "source": [
    "import string\n",
    "string.punctuation"
   ]
  },
  {
   "cell_type": "code",
   "execution_count": 3,
   "metadata": {},
   "outputs": [],
   "source": [
    "import re\n",
    "clean_contents = re.sub('[' + string.punctuation + ']', '', contents)\n",
    "clean_contents = clean_contents.lower()"
   ]
  },
  {
   "cell_type": "code",
   "execution_count": 4,
   "metadata": {},
   "outputs": [
    {
     "data": {
      "text/plain": [
       "'what is lorem ipsum\\nlorem ipsum is simply dummy text of the printing and typesetting industry \\nlorem ipsum has been the industrys standard dummy text ever since the 1500s when an unknown printer took a galley of type and scrambled it to make a type specimen book \\nit has survived not only five centuries but also the leap into electronic typesetting remaining essentially unchanged it was popularised in the 1960s with the release of letraset sheets containing lorem ipsum passages and more recently '"
      ]
     },
     "execution_count": 4,
     "metadata": {},
     "output_type": "execute_result"
    }
   ],
   "source": [
    "clean_contents[:500]"
   ]
  },
  {
   "cell_type": "markdown",
   "metadata": {},
   "source": [
    "#### Step 3. 리스트로 만들기"
   ]
  },
  {
   "cell_type": "code",
   "execution_count": 5,
   "metadata": {},
   "outputs": [
    {
     "data": {
      "text/plain": [
       "['Hello', 'World', 'Welcome', 'to', 'Python', 'World']"
      ]
     },
     "execution_count": 5,
     "metadata": {},
     "output_type": "execute_result"
    }
   ],
   "source": [
    "sentence = 'Hello World\\nWelcome to Python World'\n",
    "sentence.split()        # white space (blank, tab, newline) 기준으로 분할\n",
    "sentence.split()"
   ]
  },
  {
   "cell_type": "code",
   "execution_count": 6,
   "metadata": {},
   "outputs": [
    {
     "data": {
      "text/plain": [
       "['what', 'is', 'lorem', 'ipsum', 'lorem']"
      ]
     },
     "execution_count": 6,
     "metadata": {},
     "output_type": "execute_result"
    }
   ],
   "source": [
    "words = clean_contents.split()\n",
    "words[:5]"
   ]
  },
  {
   "cell_type": "code",
   "execution_count": 8,
   "metadata": {},
   "outputs": [
    {
     "name": "stdout",
     "output_type": "stream",
     "text": [
      "총 단어는 511개 이고, 고유 단어는 256개 입니다.\n"
     ]
    }
   ],
   "source": [
    "# 총 단어수\n",
    "print(f'총 단어는 {len(words):,d}개 이고, 고유 단어는 {len(set(words))}개 입니다.')"
   ]
  },
  {
   "cell_type": "markdown",
   "metadata": {},
   "source": [
    "##### Step 4. 고유단어가 key이고, 빈도가 value인 딕셔너리 만들기"
   ]
  },
  {
   "cell_type": "code",
   "execution_count": 9,
   "metadata": {},
   "outputs": [
    {
     "data": {
      "text/plain": [
       "256"
      ]
     },
     "execution_count": 9,
     "metadata": {},
     "output_type": "execute_result"
    }
   ],
   "source": [
    "word_dict = {}\n",
    "for word in words:\n",
    "    if word in word_dict.keys():        # word가 word_dict에 있으면\n",
    "        word_dict[word] += 1                # 빈도수 증가(+1)\n",
    "    else:                               # word가 word_dict에 없으면\n",
    "        word_dict[word] = 1                 # word_dict에 word 추가\n",
    "len(word_dict)"
   ]
  },
  {
   "cell_type": "markdown",
   "metadata": {},
   "source": [
    "##### Step 5. 빈도의 내림차순으로 정렬하기"
   ]
  },
  {
   "cell_type": "markdown",
   "metadata": {},
   "source": [
    "- 딕셔너리 리스트 정렬"
   ]
  },
  {
   "cell_type": "code",
   "execution_count": 10,
   "metadata": {},
   "outputs": [],
   "source": [
    "books = [\n",
    "    {'title': '파이썬', 'price': 10000},\n",
    "    {'title': '자바', 'price': 20000},\n",
    "    {'title': 'HTML', 'price': 15000}\n",
    "]"
   ]
  },
  {
   "cell_type": "code",
   "execution_count": 13,
   "metadata": {},
   "outputs": [
    {
     "data": {
      "text/plain": [
       "[{'title': 'HTML', 'price': 15000},\n",
       " {'title': '자바', 'price': 20000},\n",
       " {'title': '파이썬', 'price': 10000}]"
      ]
     },
     "execution_count": 13,
     "metadata": {},
     "output_type": "execute_result"
    }
   ],
   "source": [
    "# 책 제목의 오름차순 정렬\n",
    "books.sort(key=lambda x: x['title'])\n",
    "books"
   ]
  },
  {
   "cell_type": "code",
   "execution_count": 14,
   "metadata": {},
   "outputs": [
    {
     "data": {
      "text/plain": [
       "[{'title': '자바', 'price': 20000},\n",
       " {'title': 'HTML', 'price': 15000},\n",
       " {'title': '파이썬', 'price': 10000}]"
      ]
     },
     "execution_count": 14,
     "metadata": {},
     "output_type": "execute_result"
    }
   ],
   "source": [
    "# 책 가격의 내림차순 정렬\n",
    "books.sort(key=lambda x: x['price'], reverse=True)\n",
    "books"
   ]
  },
  {
   "cell_type": "markdown",
   "metadata": {},
   "source": [
    "- 튜플의 리스트 정렬"
   ]
  },
  {
   "cell_type": "code",
   "execution_count": 18,
   "metadata": {},
   "outputs": [],
   "source": [
    "fruits = [('apple', 1500), ('banana', 1200), ('peach', 2000)]"
   ]
  },
  {
   "cell_type": "code",
   "execution_count": 19,
   "metadata": {},
   "outputs": [
    {
     "data": {
      "text/plain": [
       "[('apple', 1500), ('banana', 1200), ('peach', 2000)]"
      ]
     },
     "execution_count": 19,
     "metadata": {},
     "output_type": "execute_result"
    }
   ],
   "source": [
    "# 과일 이름의 오름차순 정렬\n",
    "fruits.sort(key=lambda x: x[0])\n",
    "fruits"
   ]
  },
  {
   "cell_type": "code",
   "execution_count": 20,
   "metadata": {},
   "outputs": [
    {
     "data": {
      "text/plain": [
       "[('peach', 2000), ('apple', 1500), ('banana', 1200)]"
      ]
     },
     "execution_count": 20,
     "metadata": {},
     "output_type": "execute_result"
    }
   ],
   "source": [
    "# 과일 가격의 내림차순 정렬\n",
    "fruits.sort(key=lambda x: x[1], reverse=True)\n",
    "fruits"
   ]
  },
  {
   "cell_type": "markdown",
   "metadata": {},
   "source": [
    "- word_dict를 빈도의 내림차순으로 정렬"
   ]
  },
  {
   "cell_type": "code",
   "execution_count": 24,
   "metadata": {},
   "outputs": [
    {
     "data": {
      "text/plain": [
       "[('what', 1),\n",
       " ('is', 8),\n",
       " ('lorem', 19),\n",
       " ('ipsum', 19),\n",
       " ('simply', 2),\n",
       " ('dummy', 2),\n",
       " ('text', 5),\n",
       " ('of', 21),\n",
       " ('the', 28),\n",
       " ('printing', 1)]"
      ]
     },
     "execution_count": 24,
     "metadata": {},
     "output_type": "execute_result"
    }
   ],
   "source": [
    "# 키(단어)값과 밸류(빈도)값이 같이 움직일 수 있도록 튜플의 리스트 만들기\n",
    "word_items = list(word_dict.items())\n",
    "word_items[:10]"
   ]
  },
  {
   "cell_type": "code",
   "execution_count": 25,
   "metadata": {},
   "outputs": [
    {
     "data": {
      "text/plain": [
       "[('the', 28),\n",
       " ('of', 21),\n",
       " ('lorem', 19),\n",
       " ('ipsum', 19),\n",
       " ('a', 15),\n",
       " ('it', 11),\n",
       " ('and', 10),\n",
       " ('in', 10),\n",
       " ('is', 8),\n",
       " ('from', 8)]"
      ]
     },
     "execution_count": 25,
     "metadata": {},
     "output_type": "execute_result"
    }
   ],
   "source": [
    "# 내림차순으로 정렬 후, 앞에서 10개의 데이터 - Top 10 빈도수 단어\n",
    "word_items.sort(key=lambda x: x[1], reverse=True)\n",
    "word_items[:10]"
   ]
  },
  {
   "cell_type": "code",
   "execution_count": null,
   "metadata": {},
   "outputs": [],
   "source": []
  }
 ],
 "metadata": {
  "kernelspec": {
   "display_name": "base",
   "language": "python",
   "name": "python3"
  },
  "language_info": {
   "codemirror_mode": {
    "name": "ipython",
    "version": 3
   },
   "file_extension": ".py",
   "mimetype": "text/x-python",
   "name": "python",
   "nbconvert_exporter": "python",
   "pygments_lexer": "ipython3",
   "version": "3.11.4"
  },
  "orig_nbformat": 4
 },
 "nbformat": 4,
 "nbformat_minor": 2
}
